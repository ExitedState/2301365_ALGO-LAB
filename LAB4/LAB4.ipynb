{
 "cells": [
  {
   "cell_type": "markdown",
   "metadata": {},
   "source": [
    "## Dynamic Programming\n",
    "\n",
    "Coin Change Problem: find a number of ways of making changes for a particular amount of money, N, using a given set of denominations d1 … dm (value of coin)\n",
    "\n",
    "For example, for N=44, D={11,22,33}, there are four solutions: {11,11,11,11}, {11,11,22}, {22,22},{11,33}\n",
    "\n",
    "Show the recurrence equation and write a program using a dynamic programming approach to solve this problem."
   ]
  },
  {
   "cell_type": "markdown",
   "metadata": {},
   "source": [
    "```python\n",
    "Amount = 5\n",
    "coins [] = {1,2,3}\n",
    "Ways to make change = 5\n",
    "{1,1,1,1,1} {1,1,1,2}, {1,2,2}, {1,1,3} {2,3}\n",
    "```"
   ]
  },
  {
   "cell_type": "markdown",
   "metadata": {},
   "source": [
    "## The Minimum Coin Change Problem:\n",
    "\n",
    "From the above problem, extend the solution to find the “minimum” number of coins to make a change.\n",
    "\n",
    "Show the recurrence equation and write a program using a dynamic programming approach to solve this problem."
   ]
  },
  {
   "cell_type": "markdown",
   "metadata": {},
   "source": [
    "```python\n",
    "Amount = 5\n",
    "coins [] = {1,2,3}\n",
    "Minimum of Coin is 2\n",
    "{2,3}\n",
    "```"
   ]
  },
  {
   "cell_type": "markdown",
   "metadata": {},
   "source": [
    "---"
   ]
  },
  {
   "cell_type": "code",
   "execution_count": 27,
   "metadata": {},
   "outputs": [],
   "source": [
    "# Read data from test file\n",
    "with open('./Example_LAB_3.txt', 'r') as file:\n",
    "    lines = file.readlines()\n",
    "    \n",
    "N = int(lines[0].strip())  \n",
    "D = list(map(int, lines[1].split()))  "
   ]
  },
  {
   "cell_type": "code",
   "execution_count": 28,
   "metadata": {},
   "outputs": [
    {
     "name": "stdout",
     "output_type": "stream",
     "text": [
      "N = 5\n",
      "D = [1, 2]\n"
     ]
    }
   ],
   "source": [
    "print(f\"N = {N}\\nD = {D}\")"
   ]
  },
  {
   "cell_type": "markdown",
   "metadata": {},
   "source": [
    "---"
   ]
  },
  {
   "cell_type": "code",
   "execution_count": 29,
   "metadata": {},
   "outputs": [],
   "source": [
    "# 1\n",
    "def coinChangeWays(amount, coins):\n",
    "    m = len(coins)\n",
    "\n",
    "    dp = [[0] * (amount + 1) for _ in range(m+1)]\n",
    "\n",
    "    for i in range(m+1):\n",
    "        dp[i][0] = 1\n",
    "\n",
    "    for i in range(1, m+1):\n",
    "        for j in range(1, amount+1):\n",
    "            if coins[i - 1] > j:\n",
    "                dp[i][j] = dp[i - 1][j]\n",
    "            else:\n",
    "                dp[i][j] = dp[i-1][j] + dp[i][j-coins[i-1]]\n",
    "            print(dp)\n",
    "    return dp[m][amount]\n",
    "\n",
    "# 2\n",
    "def minCoinChange(amount, coins):\n",
    "    dp = [float('inf')] * (amount + 1)\n",
    "    dp[0] = 0\n",
    "    for i in range(1, amount+1):\n",
    "        for coin in coins:\n",
    "            if i - coin >= 0:\n",
    "                dp[i] = min(dp[i], 1 + dp[i - coin])\n",
    "    return dp[amount]\n"
   ]
  },
  {
   "cell_type": "code",
   "execution_count": 30,
   "metadata": {},
   "outputs": [
    {
     "name": "stdout",
     "output_type": "stream",
     "text": [
      "[[1, 0, 0, 0, 0, 0], [1, 1, 0, 0, 0, 0], [1, 0, 0, 0, 0, 0]]\n",
      "[[1, 0, 0, 0, 0, 0], [1, 1, 1, 0, 0, 0], [1, 0, 0, 0, 0, 0]]\n",
      "[[1, 0, 0, 0, 0, 0], [1, 1, 1, 1, 0, 0], [1, 0, 0, 0, 0, 0]]\n",
      "[[1, 0, 0, 0, 0, 0], [1, 1, 1, 1, 1, 0], [1, 0, 0, 0, 0, 0]]\n",
      "[[1, 0, 0, 0, 0, 0], [1, 1, 1, 1, 1, 1], [1, 0, 0, 0, 0, 0]]\n",
      "[[1, 0, 0, 0, 0, 0], [1, 1, 1, 1, 1, 1], [1, 1, 0, 0, 0, 0]]\n",
      "[[1, 0, 0, 0, 0, 0], [1, 1, 1, 1, 1, 1], [1, 1, 2, 0, 0, 0]]\n",
      "[[1, 0, 0, 0, 0, 0], [1, 1, 1, 1, 1, 1], [1, 1, 2, 2, 0, 0]]\n",
      "[[1, 0, 0, 0, 0, 0], [1, 1, 1, 1, 1, 1], [1, 1, 2, 2, 3, 0]]\n",
      "[[1, 0, 0, 0, 0, 0], [1, 1, 1, 1, 1, 1], [1, 1, 2, 2, 3, 3]]\n",
      "3\n",
      "3\n"
     ]
    }
   ],
   "source": [
    "print(coinChangeWays(N, D))\n",
    "print(minCoinChange(N, D))"
   ]
  },
  {
   "cell_type": "markdown",
   "metadata": {},
   "source": [
    "---"
   ]
  },
  {
   "cell_type": "code",
   "execution_count": 31,
   "metadata": {},
   "outputs": [],
   "source": [
    "def coinChangeCombinations(N, D):\n",
    "    m = len(D)\n",
    "    # Initialize dp with empty solutions\n",
    "    dp = [[[] for _ in range(N+1)] for _ in range(m+1)]\n",
    "    \n",
    "    # There's one way to make change for 0, that is using no coins\n",
    "    for i in range(m+1):\n",
    "        dp[i][0] = [[]]\n",
    "    \n",
    "    for i in range(1, m+1):  # for each coin denomination\n",
    "        for j in range(1, N+1):  # for each amount from 1 to N\n",
    "            # Exclude the coin\n",
    "            dp[i][j] = dp[i-1][j]\n",
    "            \n",
    "            # Include the coin\n",
    "            if j >= D[i-1]:\n",
    "                for solution in dp[i][j-D[i-1]]:\n",
    "                    dp[i][j].append(solution + [D[i-1]])\n",
    "    return dp[m][N]"
   ]
  },
  {
   "cell_type": "code",
   "execution_count": 32,
   "metadata": {},
   "outputs": [
    {
     "name": "stdout",
     "output_type": "stream",
     "text": [
      "Ways to make change = 3\n",
      "[1, 1, 1, 1, 1]\n",
      "[1, 1, 1, 2]\n",
      "[1, 2, 2]\n"
     ]
    }
   ],
   "source": [
    "solutions = coinChangeCombinations(N, D)\n",
    "print(f\"Ways to make change = {len(solutions)}\")\n",
    "for solution in solutions:\n",
    "    print(solution)"
   ]
  },
  {
   "cell_type": "code",
   "execution_count": 33,
   "metadata": {},
   "outputs": [],
   "source": [
    "def minCoins(N, D):\n",
    "    # Initialize dp array and last_coin array\n",
    "    dp = [float('inf')] * (N + 1)\n",
    "    dp[0] = 0\n",
    "    last_coin = [-1] * (N + 1)\n",
    "\n",
    "    for d in D:  # For each coin denomination\n",
    "        for i in range(d, N + 1):  # Starting from coin denomination to N\n",
    "            if dp[i - d] + 1 < dp[i]:\n",
    "                dp[i] = dp[i - d] + 1\n",
    "                last_coin[i] = d\n",
    "\n",
    "    if dp[N] == float('inf'):\n",
    "        return -1, []\n",
    "\n",
    "    coins_used = []\n",
    "    while N > 0:\n",
    "        coins_used.append(last_coin[N])\n",
    "        N -= last_coin[N]\n",
    "\n",
    "    return coins_used"
   ]
  },
  {
   "cell_type": "code",
   "execution_count": 34,
   "metadata": {},
   "outputs": [
    {
     "name": "stdout",
     "output_type": "stream",
     "text": [
      "Minimum of Coin is 3\n",
      "[2, 2, 1]\n"
     ]
    }
   ],
   "source": [
    "min_coin = minCoins(N, D)\n",
    "print(f\"Minimum of Coin is {len(min_coin)}\")\n",
    "print(min_coin)"
   ]
  }
 ],
 "metadata": {
  "kernelspec": {
   "display_name": "base",
   "language": "python",
   "name": "python3"
  },
  "language_info": {
   "codemirror_mode": {
    "name": "ipython",
    "version": 3
   },
   "file_extension": ".py",
   "mimetype": "text/x-python",
   "name": "python",
   "nbconvert_exporter": "python",
   "pygments_lexer": "ipython3",
   "version": "3.9.16"
  },
  "orig_nbformat": 4
 },
 "nbformat": 4,
 "nbformat_minor": 2
}
