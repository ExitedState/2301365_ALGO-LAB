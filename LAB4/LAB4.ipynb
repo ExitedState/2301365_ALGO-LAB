{
 "cells": [
  {
   "cell_type": "markdown",
   "metadata": {},
   "source": [
    "## Dynamic Programming\n",
    "\n",
    "Coin Change Problem: find a number of ways of making changes for a particular amount of money, N, using a given set of denominations d1 … dm (value of coin)\n",
    "\n",
    "For example, for N=44, D={11,22,33}, there are four solutions: {11,11,11,11}, {11,11,22}, {22,22},{11,33}\n",
    "\n",
    "Show the recurrence equation and write a program using a dynamic programming approach to solve this problem."
   ]
  },
  {
   "cell_type": "markdown",
   "metadata": {},
   "source": [
    "```python\n",
    "Amount = 5\n",
    "coins [] = {1,2,3}\n",
    "Ways to make change = 5\n",
    "{1,1,1,1,1} {1,1,1,2}, {1,2,2}, {1,1,3} {2,3}\n",
    "```"
   ]
  },
  {
   "cell_type": "markdown",
   "metadata": {},
   "source": [
    "## The Minimum Coin Change Problem:\n",
    "\n",
    "From the above problem, extend the solution to find the “minimum” number of coins to make a change.\n",
    "\n",
    "Show the recurrence equation and write a program using a dynamic programming approach to solve this problem."
   ]
  },
  {
   "cell_type": "markdown",
   "metadata": {},
   "source": [
    "```python\n",
    "Amount = 5\n",
    "coins [] = {1,2,3}\n",
    "Minimum of Coin is 2\n",
    "{2,3}\n",
    "```"
   ]
  },
  {
   "cell_type": "markdown",
   "metadata": {},
   "source": [
    "---"
   ]
  },
  {
   "cell_type": "code",
   "execution_count": null,
   "metadata": {},
   "outputs": [],
   "source": []
  }
 ],
 "metadata": {
  "language_info": {
   "name": "python"
  },
  "orig_nbformat": 4
 },
 "nbformat": 4,
 "nbformat_minor": 2
}
