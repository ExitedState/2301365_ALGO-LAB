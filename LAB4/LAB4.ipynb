{
 "cells": [
  {
   "cell_type": "markdown",
   "metadata": {},
   "source": [
    "## Dynamic Programming\n",
    "\n",
    "Coin Change Problem: find a number of ways of making changes for a particular amount of money, N, using a given set of denominations d1 … dm (value of coin)\n",
    "\n",
    "For example, for N=44, D={11,22,33}, there are four solutions: {11,11,11,11}, {11,11,22}, {22,22},{11,33}\n",
    "\n",
    "Show the recurrence equation and write a program using a dynamic programming approach to solve this problem."
   ]
  },
  {
   "cell_type": "markdown",
   "metadata": {},
   "source": [
    "```python\n",
    "Amount = 5\n",
    "coins [] = {1,2,3}\n",
    "Ways to make change = 5\n",
    "{1,1,1,1,1} {1,1,1,2}, {1,2,2}, {1,1,3} {2,3}\n",
    "```"
   ]
  },
  {
   "cell_type": "markdown",
   "metadata": {},
   "source": [
    "## The Minimum Coin Change Problem:\n",
    "\n",
    "From the above problem, extend the solution to find the “minimum” number of coins to make a change.\n",
    "\n",
    "Show the recurrence equation and write a program using a dynamic programming approach to solve this problem."
   ]
  },
  {
   "cell_type": "markdown",
   "metadata": {},
   "source": [
    "```python\n",
    "Amount = 5\n",
    "coins [] = {1,2,3}\n",
    "Minimum of Coin is 2\n",
    "{2,3}\n",
    "```"
   ]
  },
  {
   "cell_type": "markdown",
   "metadata": {},
   "source": [
    "---"
   ]
  },
  {
   "cell_type": "code",
   "execution_count": 2,
   "metadata": {},
   "outputs": [
    {
     "name": "stdout",
     "output_type": "stream",
     "text": [
      "[1, 1, 1, 1, 1]\n",
      "[1, 1, 1, 2]\n",
      "[1, 2, 2]\n",
      "[1, 1, 3]\n",
      "[2, 3]\n"
     ]
    }
   ],
   "source": [
    "def coinChangeCombinations(N, D):\n",
    "    m = len(D)\n",
    "    # Initialize dp with empty solutions\n",
    "    dp = [[[] for _ in range(N+1)] for _ in range(m+1)]\n",
    "    \n",
    "    # There's one way to make change for 0, that is using no coins\n",
    "    for i in range(m+1):\n",
    "        dp[i][0] = [[]]\n",
    "    \n",
    "    for i in range(1, m+1):  # for each coin denomination\n",
    "        for j in range(1, N+1):  # for each amount from 1 to N\n",
    "            # Exclude the coin\n",
    "            dp[i][j] = dp[i-1][j]\n",
    "            \n",
    "            # Include the coin\n",
    "            if j >= D[i-1]:\n",
    "                for solution in dp[i][j-D[i-1]]:\n",
    "                    dp[i][j].append(solution + [D[i-1]])\n",
    "    \n",
    "    return dp[m][N]\n",
    "\n",
    "# Example\n",
    "N = 5\n",
    "D = [1, 2, 3]\n",
    "solutions = coinChangeCombinations(N, D)\n",
    "for solution in solutions:\n",
    "    print(solution)\n"
   ]
  }
 ],
 "metadata": {
  "kernelspec": {
   "display_name": "base",
   "language": "python",
   "name": "python3"
  },
  "language_info": {
   "codemirror_mode": {
    "name": "ipython",
    "version": 3
   },
   "file_extension": ".py",
   "mimetype": "text/x-python",
   "name": "python",
   "nbconvert_exporter": "python",
   "pygments_lexer": "ipython3",
   "version": "3.9.16"
  },
  "orig_nbformat": 4
 },
 "nbformat": 4,
 "nbformat_minor": 2
}
