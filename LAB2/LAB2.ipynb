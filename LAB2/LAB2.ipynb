{
 "cells": [
  {
   "cell_type": "markdown",
   "metadata": {},
   "source": [
    "### Brute Force\n",
    "\n",
    "A Hamiltonian path (or traceable path) is a path in an undirected or directed graph that visits each vertex exactly once. A Hamiltonian cycle (or Hamiltonian circuit) is a cycle that visits each vertex exactly once. A Hamiltonian path that starts and ends at adjacent vertices can be completed by adding one more edge to form a Hamiltonian cycle and removing any edge from a Hamiltonian cycle produces a Hamiltonian path.\n",
    "(https://en.wikipedia.org/wiki/Hamiltonian_path)"
   ]
  },
  {
   "cell_type": "markdown",
   "metadata": {},
   "source": [
    "#### Write a program to\n",
    "1. Determine whether a given graph has a path from given u to given v or not ($Path(u,v)$). If there is a path, print that path.\n",
    "2. Check whether a given graph has a Hamiltonian path/cycle. If there is a path/cycle, print that path/cycle.\n",
    "\n",
    "    **Please note that Information will be provided by various sizes of adjacency Matrix**"
   ]
  },
  {
   "cell_type": "markdown",
   "metadata": {},
   "source": [
    "---"
   ]
  },
  {
   "cell_type": "markdown",
   "metadata": {},
   "source": [
    "### Draw graph zone"
   ]
  },
  {
   "cell_type": "code",
   "execution_count": 24,
   "metadata": {},
   "outputs": [],
   "source": [
    "import networkx as nx\n",
    "import matplotlib.pyplot as plt\n",
    "\n",
    "def draw_graph(matrix):\n",
    "    G = nx.DiGraph()\n",
    "    for i in range(len(matrix)):\n",
    "        for j in range(len(matrix[i])):\n",
    "            if matrix[i][j] == 1:\n",
    "                G.add_edge(i, j)\n",
    "    pos = nx.shell_layout(G)\n",
    "    plt.figure(figsize=(2,2))  \n",
    "    nx.draw(G, pos,with_labels=True, node_color='skyblue', node_size=200, font_size=10)\n",
    "    plt.show()\n",
    "\n",
    "def draw_solution(matrix, paths, cycles=False):\n",
    "    \"\"\"\n",
    "    Visualize a graph represented by an adjacency matrix and highlight multiple paths (show all paths)\n",
    "    \n",
    "    Parameters:\n",
    "    - matrix (List[List[int]]): Adjacency matrix representing the graph.\n",
    "                                 An entry of 1 at matrix[i][j] indicates an edge from node i to node j.\n",
    "    - paths (List[List[int]]): List of paths, where each path is a list of nodes to be highlighted.\n",
    "    \"\"\"\n",
    "    G = nx.DiGraph()\n",
    "    for i in range(len(matrix)):\n",
    "        for j in range(len(matrix[i])):\n",
    "            if matrix[i][j] == 1:\n",
    "                G.add_edge(i, j)\n",
    "    pos = nx.shell_layout(G)\n",
    "    for path in paths:\n",
    "        plt.figure(figsize=(2,2)) \n",
    "        # Draw the entire graph in a light color\n",
    "        nx.draw(G, pos, with_labels=True, node_color='skyblue', node_size=200, font_size=10, edge_color='lightgray')\n",
    "        # Highlight the solution path\n",
    "        edges = [(path[i], path[i+1]) for i in range(len(path)-1)]\n",
    "        if cycles:  # Check if the first and last nodes are connected\n",
    "            edges.append((path[-1], path[0]))  # Add the edge to close the cycle\n",
    "        nx.draw_networkx_edges(G, pos, edgelist=edges, edge_color='r', width=2)\n",
    "        plt.show()\n",
    "\n",
    "def draw_current_path(matrix, path):\n",
    "    \"\"\"\n",
    "    Visualize a graph represented by an adjacency matrix and highlight a single path.\n",
    "    \n",
    "    Parameters:\n",
    "    - matrix (List[List[int]]): Adjacency matrix representing the graph.\n",
    "                                 An entry of 1 at matrix[i][j] indicates an edge from node i to node j.\n",
    "    - path (List[int]): Path of nodes to be highlighted.\n",
    "    \"\"\"\n",
    "    G = nx.DiGraph()\n",
    "    for i in range(len(matrix)):\n",
    "        for j in range(len(matrix[i])):\n",
    "            if matrix[i][j] == 1:\n",
    "                G.add_edge(i, j)\n",
    "    pos = nx.shell_layout(G)\n",
    "    plt.figure(figsize=(2,2))\n",
    "    # Draw the entire graph in light colors\n",
    "    nx.draw(G, pos, with_labels=True, node_color='skyblue', node_size=200, font_size=10, edge_color='lightgray')\n",
    "    # Highlight the current path\n",
    "    edges = [(path[i], path[i+1]) for i in range(len(path)-1)]\n",
    "    nx.draw_networkx_edges(G, pos, edgelist=edges, edge_color='r', width=2)\n",
    "    plt.draw()\n",
    "    plt.pause(1)  # Pause to observe the drawing"
   ]
  },
  {
   "cell_type": "markdown",
   "metadata": {},
   "source": [
    "----"
   ]
  },
  {
   "cell_type": "markdown",
   "metadata": {},
   "source": [
    "## CODE"
   ]
  },
  {
   "cell_type": "markdown",
   "metadata": {},
   "source": [
    "#### Find Path given u and v"
   ]
  },
  {
   "cell_type": "markdown",
   "metadata": {},
   "source": [
    "Version 1"
   ]
  },
  {
   "cell_type": "code",
   "execution_count": 25,
   "metadata": {},
   "outputs": [],
   "source": [
    "def find_all_paths(matrix, start, end, path=[]):\n",
    "    path = path + [start]\n",
    "    # Base case: if the start is same as end, we found a path\n",
    "    if start == end:\n",
    "        return [path]\n",
    "    paths = []  # to store all possible paths\n",
    "    for i in range(len(matrix[start])):\n",
    "        # if there's an edge and the node hasn't been visited yet\n",
    "        if matrix[start][i] == 1 and i not in path:\n",
    "            newpaths = find_all_paths(matrix, i, end, path)\n",
    "            for newpath in newpaths:\n",
    "                paths.append(newpath)\n",
    "    return paths"
   ]
  },
  {
   "cell_type": "markdown",
   "metadata": {},
   "source": [
    "Version 2"
   ]
  },
  {
   "cell_type": "code",
   "execution_count": 26,
   "metadata": {},
   "outputs": [],
   "source": [
    "def generate_all_trails(matrix, node, visited):\n",
    "    n = len(matrix)\n",
    "    trails = [[node]]\n",
    "\n",
    "    for next_node in range(n):\n",
    "        if matrix[node][next_node] == 1 and next_node not in visited:\n",
    "            visited.add(next_node)\n",
    "            for trail in generate_all_trails(matrix, next_node, visited):\n",
    "                trails.append([node] + trail)\n",
    "            visited.remove(next_node)\n",
    "    return trails\n",
    "\n",
    "def find_all_paths_V2(matrix, start, end):\n",
    "    visited = set([start])\n",
    "    all_trails = generate_all_trails(matrix, start, visited)\n",
    "    valid_paths = [trail for trail in all_trails if trail[-1] == end]\n",
    "    return valid_paths"
   ]
  },
  {
   "cell_type": "markdown",
   "metadata": {},
   "source": [
    "#### Hamiltonian paths"
   ]
  },
  {
   "cell_type": "markdown",
   "metadata": {},
   "source": [
    "Version 1"
   ]
  },
  {
   "cell_type": "code",
   "execution_count": 27,
   "metadata": {},
   "outputs": [],
   "source": [
    "def find_hamiltonian_paths(matrix):\n",
    "    n = len(matrix) # Number of nodes\n",
    "    hamiltonian_paths = []\n",
    "\n",
    "    # For each pair of nodes, find all paths\n",
    "    for start in range(n):\n",
    "        for end in range(n):\n",
    "            if start != end:\n",
    "                paths = find_all_paths(matrix, start, end)\n",
    "                # For each path, check if it's a Hamiltonian path\n",
    "                for path in paths:\n",
    "                    if len(path) == n:\n",
    "                        hamiltonian_paths.append(path)\n",
    "    return hamiltonian_paths"
   ]
  },
  {
   "cell_type": "markdown",
   "metadata": {},
   "source": [
    "Version 2"
   ]
  },
  {
   "cell_type": "code",
   "execution_count": 28,
   "metadata": {},
   "outputs": [],
   "source": [
    "def find_hamiltonian_paths_from_vertex(matrix, start):\n",
    "    n = len(matrix)\n",
    "    visited = set([start])\n",
    "    all_trails = generate_all_trails(matrix, start, visited)\n",
    "\n",
    "    # Filtering trails to get Hamiltonian paths\n",
    "    hamiltonian_paths = [trail for trail in all_trails if len(trail) == n]\n",
    "    \n",
    "    return hamiltonian_paths\n",
    "\n",
    "def find_hamiltonian_paths_V2(matrix):\n",
    "    n = len(matrix)\n",
    "    all_paths = []\n",
    "    \n",
    "    for start_vertex in range(n):\n",
    "        all_paths.extend(find_hamiltonian_paths_from_vertex(matrix, start_vertex))\n",
    "    \n",
    "    return all_paths\n"
   ]
  },
  {
   "cell_type": "markdown",
   "metadata": {},
   "source": [
    "#### Hamiltonian cycles"
   ]
  },
  {
   "cell_type": "markdown",
   "metadata": {},
   "source": [
    "Version 1"
   ]
  },
  {
   "cell_type": "code",
   "execution_count": 29,
   "metadata": {},
   "outputs": [],
   "source": [
    "def find_hamiltonian_cycles(matrix):\n",
    "    hamiltonian_paths = find_hamiltonian_paths(matrix)\n",
    "    hamiltonian_cycles = []\n",
    "\n",
    "    for path in hamiltonian_paths:\n",
    "        # Check if start and end nodes of the path are connected\n",
    "        if matrix[path[0]][path[-1]] == 1:\n",
    "            hamiltonian_cycles.append(path)\n",
    "    \n",
    "    return hamiltonian_cycles"
   ]
  },
  {
   "cell_type": "markdown",
   "metadata": {},
   "source": [
    "Version 2"
   ]
  },
  {
   "cell_type": "code",
   "execution_count": 30,
   "metadata": {},
   "outputs": [],
   "source": [
    "def find_hamiltonian_cycles_from_vertex(matrix, start):\n",
    "    n = len(matrix)\n",
    "    visited = set([start])\n",
    "    all_trails = generate_all_trails(matrix, start, visited)\n",
    "\n",
    "    # Filtering trails to get Hamiltonian paths\n",
    "    hamiltonian_paths = [trail for trail in all_trails if len(trail) == n]\n",
    "    # Filtering Hamiltonian paths to get Hamiltonian cycles\n",
    "    hamiltonian_cycles = [path for path in hamiltonian_paths if matrix[path[-1]][start] == 1]\n",
    "\n",
    "    return hamiltonian_cycles\n",
    "\n",
    "def find_hamiltonian_cycles_V2(matrix):\n",
    "    n = len(matrix)\n",
    "    all_cycles = []\n",
    "    \n",
    "    for start_vertex in range(n):\n",
    "        all_cycles.extend(find_hamiltonian_cycles_from_vertex(matrix, start_vertex))\n",
    "    \n",
    "    return all_cycles"
   ]
  },
  {
   "cell_type": "markdown",
   "metadata": {},
   "source": [
    "---"
   ]
  },
  {
   "cell_type": "markdown",
   "metadata": {},
   "source": [
    "### Test program"
   ]
  },
  {
   "cell_type": "code",
   "execution_count": 31,
   "metadata": {},
   "outputs": [
    {
     "name": "stdout",
     "output_type": "stream",
     "text": [
      "[[0, 1, 0, 0, 0, 1], [1, 0, 1, 0, 0, 0], [0, 1, 0, 1, 0, 0], [0, 0, 1, 0, 1, 0], [0, 0, 0, 1, 0, 1], [1, 0, 0, 0, 1, 0]]\n"
     ]
    }
   ],
   "source": [
    "def read_adjacency_matrix(filename):\n",
    "    with open(filename, 'r') as file:\n",
    "        lines = file.readlines()\n",
    "        matrix = [list(map(int, line.strip().split())) for line in lines]\n",
    "    return matrix\n",
    "\n",
    "# Using the function:\n",
    "filename = \"Example_LAB2.txt\"\n",
    "graph_matrix = read_adjacency_matrix(filename)\n",
    "print(graph_matrix)\n"
   ]
  },
  {
   "cell_type": "code",
   "execution_count": 32,
   "metadata": {},
   "outputs": [
    {
     "name": "stdout",
     "output_type": "stream",
     "text": [
      "[[0, 1, 0, 0, 0, 1], [1, 0, 1, 0, 0, 0], [0, 1, 0, 1, 0, 0], [0, 0, 1, 0, 1, 0], [0, 0, 0, 1, 0, 1], [1, 0, 0, 0, 1, 0]]\n"
     ]
    }
   ],
   "source": [
    "def convert_string_to_matrix(s):\n",
    "    # Split the string by lines and then split each line by spaces. Convert each element to an integer.\n",
    "    return [list(map(int, line.split())) for line in s.split('\\n')]\n",
    "\n",
    "# Using the function:\n",
    "x = \"\"\"0 1 0 0 0 1\n",
    "1 0 1 0 0 0\n",
    "0 1 0 1 0 0\n",
    "0 0 1 0 1 0\n",
    "0 0 0 1 0 1\n",
    "1 0 0 0 1 0\"\"\"\n",
    "\n",
    "graph_matrix = convert_string_to_matrix(x)\n",
    "print(graph_matrix)\n"
   ]
  },
  {
   "cell_type": "code",
   "execution_count": 33,
   "metadata": {},
   "outputs": [],
   "source": [
    "graph_matrix = [\n",
    "    [0, 1, 1, 1, 0, 0, 0, 0, 0, 0, 1, 1],\n",
    "    [1, 0, 1, 0, 0, 0, 0, 0, 1, 1, 1, 1],\n",
    "    [1, 1, 0, 1, 0, 0, 0, 1, 1, 0, 0, 0],\n",
    "    [1, 0, 1, 0, 1, 0, 0, 1, 0, 0, 0, 1],\n",
    "    [0, 0, 0, 1, 0, 1, 1, 1, 0, 0, 0, 1],\n",
    "    [0, 0, 0, 0, 1, 0, 1, 0, 0, 1, 1, 1],\n",
    "    [0, 0, 0, 0, 1, 1, 0, 1, 1, 1, 0, 0],\n",
    "    [0, 0, 1, 1, 1, 0, 1, 0, 1, 0, 0, 0],\n",
    "    [0, 1, 1, 0, 0, 0, 1, 1, 0, 1, 0, 0],\n",
    "    [0, 1, 0, 0, 0, 1, 1, 0, 1, 0, 1, 0],\n",
    "    [1, 1, 0, 0, 0, 1, 0, 0, 0, 1, 0, 1],\n",
    "    [1, 0, 0, 1, 1, 1, 0, 0, 0, 0, 1, 0]\n",
    "]"
   ]
  },
  {
   "cell_type": "code",
   "execution_count": 34,
   "metadata": {},
   "outputs": [
    {
     "data": {
      "image/png": "[encoded data removed]",
      "text/plain": [
       "<Figure size 200x200 with 1 Axes>"
      ]
     },
     "metadata": {},
     "output_type": "display_data"
    },
    {
     "name": "stdout",
     "output_type": "stream",
     "text": [
      "Paths: 4151\n",
      "Paths: 4151\n",
      "Hamiltonian paths: 90424\n",
      "Hamiltonian paths: 90424\n",
      "Hamiltonian cycles: 38016\n",
      "Hamiltonian cycles: 38016\n"
     ]
    }
   ],
   "source": [
    "draw_graph(graph_matrix)\n",
    "\n",
    "paths = find_all_paths(graph_matrix, 0, 1)\n",
    "print(f\"Paths V1: {len(paths)}\")\n",
    "# draw_solution(graph_matrix, paths[:5])\n",
    "\n",
    "paths = find_all_paths_V2(graph_matrix, 0, 1)\n",
    "print(f\"Paths V2: {len(paths)}\")\n",
    "# draw_solution(graph_matrix, paths[:5])\n",
    "\n",
    "paths = find_hamiltonian_paths(graph_matrix)\n",
    "print(f\"Hamiltonian paths V1: {len(paths)}\")\n",
    "# draw_solution(graph_matrix, paths[:5])\n",
    "\n",
    "paths = find_hamiltonian_paths_V2(graph_matrix)\n",
    "print(f\"Hamiltonian paths V2: {len(paths)}\")\n",
    "# draw_solution(graph_matrix, paths[:5])\n",
    "\n",
    "cycles = find_hamiltonian_cycles(graph_matrix)\n",
    "print(f\"Hamiltonian cycles V1: {len(cycles)}\")\n",
    "# draw_solution(graph_matrix, cycles[:5], cycles=True)\n",
    "\n",
    "cycles = find_hamiltonian_cycles_V2(graph_matrix)\n",
    "print(f\"Hamiltonian cycles V2: {len(cycles)}\")\n",
    "# draw_solution(graph_matrix, cycles[:5], cycles=True)\n"
   ]
  },
  {
   "cell_type": "code",
   "execution_count": 36,
   "metadata": {},
   "outputs": [
    {
     "name": "stdout",
     "output_type": "stream",
     "text": [
      "Average execution time for Paths V1: 0.04075167179107666 seconds\n",
      "Paths V1: 4151\n",
      "Average execution time for Paths V2: 0.36291453838348386 seconds\n",
      "Paths V2: 4151\n",
      "Average execution time for Hamiltonian paths V1: 3.9513105154037476 seconds\n",
      "Hamiltonian paths V1: 90424\n",
      "Average execution time for Hamiltonian paths V2: 4.68999924659729 seconds\n",
      "Hamiltonian paths V2: 90424\n",
      "Average execution time for Hamiltonian cycles V1: 4.339945363998413 seconds\n",
      "Hamiltonian cycles V1: 38016\n",
      "Average execution time for Hamiltonian cycles V2: 5.617664933204651 seconds\n",
      "Hamiltonian cycles V2: 38016\n"
     ]
    }
   ],
   "source": [
    "import time\n",
    "\n",
    "def measure_avg_time(func, *args, runs=10):\n",
    "    total_time = 0\n",
    "    for _ in range(runs):\n",
    "        start_time = time.time()\n",
    "        func(*args)\n",
    "        total_time += (time.time() - start_time)\n",
    "    return total_time / runs\n",
    "\n",
    "# Assuming graph_matrix is defined somewhere above in the code...\n",
    "\n",
    "# Compare find_all_paths V1 vs V2\n",
    "avg_time = measure_avg_time(find_all_paths, graph_matrix, 0, 1)\n",
    "print(f\"Average execution time for Paths V1: {avg_time} seconds\")\n",
    "paths = find_all_paths(graph_matrix, 0, 1)\n",
    "print(f\"Paths V1: {len(paths)}\")\n",
    "# draw_solution(graph_matrix, paths[:5])\n",
    "\n",
    "avg_time = measure_avg_time(find_all_paths_V2, graph_matrix, 0, 1)\n",
    "print(f\"Average execution time for Paths V2: {avg_time} seconds\")\n",
    "paths = find_all_paths_V2(graph_matrix, 0, 1)\n",
    "print(f\"Paths V2: {len(paths)}\")\n",
    "# draw_solution(graph_matrix, paths[:5])\n",
    "\n",
    "# Compare find_hamiltonian_paths V1 vs V2\n",
    "avg_time = measure_avg_time(find_hamiltonian_paths, graph_matrix)\n",
    "print(f\"Average execution time for Hamiltonian paths V1: {avg_time} seconds\")\n",
    "paths = find_hamiltonian_paths(graph_matrix)\n",
    "print(f\"Hamiltonian paths V1: {len(paths)}\")\n",
    "# draw_solution(graph_matrix, paths[:5])\n",
    "\n",
    "avg_time = measure_avg_time(find_hamiltonian_paths_V2, graph_matrix)\n",
    "print(f\"Average execution time for Hamiltonian paths V2: {avg_time} seconds\")\n",
    "paths = find_hamiltonian_paths_V2(graph_matrix)\n",
    "print(f\"Hamiltonian paths V2: {len(paths)}\")\n",
    "# draw_solution(graph_matrix, paths[:5])\n",
    "\n",
    "# Compare find_hamiltonian_cycles V1 vs V2\n",
    "avg_time = measure_avg_time(find_hamiltonian_cycles, graph_matrix)\n",
    "print(f\"Average execution time for Hamiltonian cycles V1: {avg_time} seconds\")\n",
    "cycles = find_hamiltonian_cycles(graph_matrix)\n",
    "print(f\"Hamiltonian cycles V1: {len(cycles)}\")\n",
    "# draw_solution(graph_matrix, cycles[:5], cycles=True)\n",
    "\n",
    "avg_time = measure_avg_time(find_hamiltonian_cycles_V2, graph_matrix)\n",
    "print(f\"Average execution time for Hamiltonian cycles V2: {avg_time} seconds\")\n",
    "cycles = find_hamiltonian_cycles_V2(graph_matrix)\n",
    "print(f\"Hamiltonian cycles V2: {len(cycles)}\")\n",
    "# draw_solution(graph_matrix, cycles[:5], cycles=True)\n"
   ]
  }
 ],
 "metadata": {
  "kernelspec": {
   "display_name": "base",
   "language": "python",
   "name": "python3"
  },
  "language_info": {
   "codemirror_mode": {
    "name": "ipython",
    "version": 3
   },
   "file_extension": ".py",
   "mimetype": "text/x-python",
   "name": "python",
   "nbconvert_exporter": "python",
   "pygments_lexer": "ipython3",
   "version": "3.9.16"
  },
  "orig_nbformat": 4
 },
 "nbformat": 4,
 "nbformat_minor": 2
}
