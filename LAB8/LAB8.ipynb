{
 "cells": [
  {
   "cell_type": "code",
   "execution_count": 1,
   "metadata": {},
   "outputs": [
    {
     "data": {
      "text/plain": [
       "[0, 2, 1, 3]"
      ]
     },
     "execution_count": 1,
     "metadata": {},
     "output_type": "execute_result"
    }
   ],
   "source": [
    "n = 3\n",
    "arr = [i for i in range(n+1)]\n",
    "def DaC(arr):\n",
    "    return arr if len(arr)==1 else DaC(arr[::2])+DaC(arr[1::2])\n",
    "DaC(arr)"
   ]
  },
  {
   "cell_type": "code",
   "execution_count": 2,
   "metadata": {},
   "outputs": [
    {
     "name": "stdout",
     "output_type": "stream",
     "text": [
      "[0, 2, 1, 3]\n",
      "[0, 2, 3, 1]\n",
      "[1, 0, 3, 2]\n",
      "[1, 3, 0, 2]\n",
      "[1, 3, 2, 0]\n",
      "[2, 0, 1, 3]\n",
      "[2, 0, 3, 1]\n",
      "[2, 3, 0, 1]\n",
      "[3, 1, 0, 2]\n",
      "[3, 1, 2, 0]\n"
     ]
    }
   ],
   "source": [
    "import numpy as np\n",
    "def naive(arr):\n",
    "    def permutation(arr):\n",
    "        if len(arr)==1:\n",
    "            return [arr]\n",
    "        else:\n",
    "            return [[arr[i]]+p for i in range(len(arr)) for p in permutation(arr[:i]+arr[i+1:])]\n",
    "    ans = []\n",
    "    for arr in permutation(arr):\n",
    "        n = len(arr)\n",
    "        flag = False\n",
    "        for i in range(n):\n",
    "            if flag: break\n",
    "            for j in range(i+2,n):\n",
    "                if flag: break\n",
    "                for k in range(i+1,j):\n",
    "                    if 2*arr[k] == arr[i]+arr[j]:\n",
    "                        flag = True\n",
    "                        break\n",
    "        if not flag:\n",
    "            ans.append(arr)\n",
    "    return ans\n",
    "\n",
    "naive_sol = naive(arr)\n",
    "for i in naive_sol:\n",
    "    print(i)\n",
    "    "
   ]
  },
  {
   "cell_type": "code",
   "execution_count": 3,
   "metadata": {},
   "outputs": [],
   "source": [
    "def DaC(arr):\n",
    "    if len(arr) == 1:\n",
    "        return arr\n",
    "    even = [i for i in arr if i%2==0]\n",
    "    odd = [i for i in arr if i%2==1]\n",
    "    return even+odd\n",
    "m = DaC(arr)"
   ]
  },
  {
   "cell_type": "code",
   "execution_count": 4,
   "metadata": {},
   "outputs": [
    {
     "data": {
      "text/plain": [
       "True"
      ]
     },
     "execution_count": 4,
     "metadata": {},
     "output_type": "execute_result"
    }
   ],
   "source": [
    "m in naive_sol"
   ]
  }
 ],
 "metadata": {
  "kernelspec": {
   "display_name": "base",
   "language": "python",
   "name": "python3"
  },
  "language_info": {
   "codemirror_mode": {
    "name": "ipython",
    "version": 3
   },
   "file_extension": ".py",
   "mimetype": "text/x-python",
   "name": "python",
   "nbconvert_exporter": "python",
   "pygments_lexer": "ipython3",
   "version": "3.9.16"
  }
 },
 "nbformat": 4,
 "nbformat_minor": 2
}
