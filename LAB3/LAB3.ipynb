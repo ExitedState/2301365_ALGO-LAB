{
 "cells": [
  {
   "cell_type": "markdown",
   "metadata": {},
   "source": [
    "# Greedy Technique\n",
    "\n",
    "Given an array of size n that contain either ‘G’rab car or ‘P’assenger. \n",
    "\n",
    "Each Grab car can pick up only one passenger. And each Grab car cannot pick up a passenger who is more than K units away from Grab car.\n",
    "\n",
    "1. Write a program using Brute force approach to find number of all solutions \n",
    "    that give the maximum number of Passenger(s) that can ride Grab(s).\n",
    "2. Write a program using Greedy Technique to find a solution that gives the maximum number of Passengers(s) that can ride Grab(s).\n",
    "\n",
    "For example, if an array consists of {‘G’, ‘P’, ‘P’, ‘G’, ‘P’} and we set k = 1, \n",
    "\n",
    "then the output the maximum number passenger can ride Grab would be 2. \n",
    "\n",
    "The first Grab picks up the first passenger and the second Grab picks up either the second or third passenger."
   ]
  },
  {
   "cell_type": "markdown",
   "metadata": {},
   "source": [
    "---"
   ]
  },
  {
   "cell_type": "markdown",
   "metadata": {},
   "source": [
    "## Reading test case"
   ]
  },
  {
   "cell_type": "code",
   "execution_count": 154,
   "metadata": {
    "notebookRunGroups": {
     "groupValue": "12"
    }
   },
   "outputs": [
    {
     "name": "stdout",
     "output_type": "stream",
     "text": [
      "arr = ['P', 'P', 'G', 'G', 'G', 'G', 'P', 'P']\n",
      "k   = 3\n"
     ]
    }
   ],
   "source": [
    "def read_input(filename):\n",
    "    with open(filename, 'r') as f:\n",
    "        arr = list(f.readline().strip())\n",
    "        k = int(f.readline().strip())\n",
    "    return arr, k\n",
    "\n",
    "# The functions 'can_pickup', 'recursive_search' and 'find_max_pickups' remain unchanged from the previous answer\n",
    "\n",
    "# Reading the input\n",
    "filename = 'Example_LAB_3.txt'\n",
    "arr, k = read_input(filename)\n",
    "print(f\"arr = {arr}\\nk   = {k}\")"
   ]
  },
  {
   "cell_type": "markdown",
   "metadata": {},
   "source": [
    "### Brute force"
   ]
  },
  {
   "cell_type": "code",
   "execution_count": 155,
   "metadata": {
    "notebookRunGroups": {
     "groupValue": "1"
    }
   },
   "outputs": [
    {
     "name": "stdout",
     "output_type": "stream",
     "text": [
      "arr = ['P', 'P', 'G', 'G', 'G', 'G', 'P', 'P']\n",
      "k   = 3\n",
      "Maximum passengers: 4\n",
      "all possible solutions: 5\n"
     ]
    }
   ],
   "source": [
    "def can_pickup(g_index, p_index, k):\n",
    "    \"\"\"Checks if a Grab car at g_index can pick up a passenger at p_index\"\"\"\n",
    "    return abs(g_index - p_index) <= k\n",
    "\n",
    "def brute_force(arr, k, start=0, pickups=[]):\n",
    "    \"\"\"Recursively find all possible pairings of Grab cars and passengers\"\"\"\n",
    "    n = len(arr)\n",
    "    max_pickups = len(pickups)\n",
    "    best_solutions = [pickups]\n",
    "\n",
    "    for i in range(start, n):\n",
    "        if arr[i] == 'G':\n",
    "            for j in range(n):\n",
    "                if arr[j] == 'P' and not any(p[1] == j for p in pickups) and can_pickup(i, j, k):\n",
    "                    new_pickups, new_solutions = brute_force(arr, k, i + 1, pickups + [(i, j)])\n",
    "                    if new_pickups == max_pickups:\n",
    "                        best_solutions.extend(new_solutions)\n",
    "                    elif new_pickups > max_pickups:\n",
    "                        max_pickups = new_pickups\n",
    "                        best_solutions = new_solutions\n",
    "\n",
    "    return max_pickups, best_solutions\n",
    "\n",
    "max_passengers, solutions = brute_force(arr, k)\n",
    "\n",
    "print(f\"arr = {arr}\\nk   = {k}\")\n",
    "print(f\"Maximum passengers: {max_passengers}\")\n",
    "print(f\"all possible solutions: {len(solutions)}\")"
   ]
  },
  {
   "cell_type": "code",
   "execution_count": 156,
   "metadata": {},
   "outputs": [
    {
     "name": "stdout",
     "output_type": "stream",
     "text": [
      "Solution 1: [(2, 0), (3, 1), (4, 6), (5, 7)], Total Distance: 8\n",
      "Solution 2: [(2, 0), (3, 1), (4, 7), (5, 6)], Total Distance: 8\n",
      "Solution 3: [(2, 0), (3, 6), (4, 1), (5, 7)], Total Distance: 10\n",
      "Solution 4: [(2, 1), (3, 0), (4, 6), (5, 7)], Total Distance: 8\n",
      "Solution 5: [(2, 1), (3, 0), (4, 7), (5, 6)], Total Distance: 8\n",
      "\n",
      "--------------------------------------------------\n",
      "\n",
      "Minimum Distance: 8\n",
      "[(2, 0), (3, 1), (4, 6), (5, 7)]\n",
      "[(2, 0), (3, 1), (4, 7), (5, 6)]\n",
      "[(2, 1), (3, 0), (4, 6), (5, 7)]\n",
      "[(2, 1), (3, 0), (4, 7), (5, 6)]\n",
      "\n",
      "--------------------------------------------------\n",
      "\n",
      "Maximum Distance: 10\n",
      "[(2, 0), (3, 6), (4, 1), (5, 7)]\n",
      "\n",
      "--------------------------------------------------\n",
      "\n"
     ]
    }
   ],
   "source": [
    "def calculate_distance(solution):\n",
    "    \"\"\"Calculate the total distance for a given solution.\"\"\"\n",
    "    return sum(abs(g - p) for g, p in solution)\n",
    "\n",
    "def get_solutions_for_distance(solutions, distances, target_distance):\n",
    "    \"\"\"Get solutions corresponding to a specific distance.\"\"\"\n",
    "    return [solution for solution, distance in zip(solutions, distances) if distance == target_distance]\n",
    "\n",
    "def print_solutions(title, solutions_list, distance=None):\n",
    "    \"\"\"Print a list of solutions with a title.\"\"\"\n",
    "    if distance is not None:\n",
    "        print(f\"{title} Distance: {distance}\")\n",
    "    for solution in solutions_list:\n",
    "        print(solution)\n",
    "    print(\"\\n\" + \"-\"*50 + \"\\n\")\n",
    "\n",
    "# Calculate distances for each solution\n",
    "distances = [calculate_distance(solution) for solution in solutions]\n",
    "\n",
    "# Find minimum and maximum distances\n",
    "min_distance = min(distances)\n",
    "max_distance = max(distances)\n",
    "\n",
    "# Extract solutions with minimum and maximum distances\n",
    "solutions_with_min_distance = get_solutions_for_distance(solutions, distances, min_distance)\n",
    "solutions_with_max_distance = get_solutions_for_distance(solutions, distances, max_distance)\n",
    "\n",
    "# Print all solutions with their distances\n",
    "for idx, (solution, distance) in enumerate(zip(solutions, distances), 1):\n",
    "    print(f\"Solution {idx}: {solution}, Total Distance: {distance}\")\n",
    "\n",
    "print(\"\\n\" + \"-\"*50 + \"\\n\")\n",
    "\n",
    "# Print solutions with minimum and maximum distances\n",
    "print_solutions(\"Minimum\", solutions_with_min_distance, min_distance)\n",
    "print_solutions(\"Maximum\", solutions_with_max_distance, max_distance)"
   ]
  },
  {
   "cell_type": "markdown",
   "metadata": {},
   "source": [
    "---"
   ]
  },
  {
   "cell_type": "markdown",
   "metadata": {},
   "source": [
    "### Greedy"
   ]
  },
  {
   "cell_type": "code",
   "execution_count": 157,
   "metadata": {
    "notebookRunGroups": {
     "groupValue": "2"
    }
   },
   "outputs": [
    {
     "name": "stdout",
     "output_type": "stream",
     "text": [
      "['P', 'P', 'G', 'G', 'G', 'G', 'P', 'P']\n",
      "Maximum passengers: 4\n",
      "Solution: [(2, 0), (3, 1), (4, 7), (5, 6)]\n",
      "Total distance: 8\n"
     ]
    }
   ],
   "source": [
    "def greedy_max_passenger(arr, k):\n",
    "    n = len(arr)\n",
    "    paired = [False] * n  # To mark passengers that have been paired\n",
    "    pairs = []\n",
    "\n",
    "    # Count number of G's within k distance for each P\n",
    "    p_count = [0] * n\n",
    "    for i in range(n):\n",
    "        if arr[i] == 'P':\n",
    "            for j in range(max(0, i-k), min(n, i+k+1)): # min max used to avoid out of bounds\n",
    "                if arr[j] == 'G':\n",
    "                    p_count[i] += 1\n",
    "\n",
    "    #looking for Grab cars ('G') to pair them up.\n",
    "    for i in range(n):\n",
    "        if arr[i] == 'G':\n",
    "            # Prioritize P with fewest G's around; if tie, pick nearest P\n",
    "            min_count = float('inf') # used to track the minimum count of available Grab cars for any passenger\n",
    "            chosen_p = None # will store the index of the chosen passenger\n",
    "            for j in range(max(0, i-k), min(n, i+k+1)): # เอาไว้หาว่า G นี้มี P ที่น้อยที่สุดอยู่ที่ไหน\n",
    "                if arr[j] == 'P' and not paired[j] and p_count[j] < min_count:\n",
    "                    min_count = p_count[j]\n",
    "                    chosen_p = j\n",
    "\n",
    "            if chosen_p is not None:\n",
    "                pairs.append((i, chosen_p))\n",
    "                paired[chosen_p] = True\n",
    "\n",
    "    return len(pairs), pairs\n",
    "\n",
    "max_passengers, solution = greedy_max_passenger(arr, k)\n",
    "\n",
    "print(arr)\n",
    "print(f\"Maximum passengers: {max_passengers}\")\n",
    "print(f\"Solution: {solution}\")\n",
    "distances = [calculate_distance(solution) for solution in solutions]\n",
    "print(f\"Total distance: {calculate_distance(solution)}\")\n"
   ]
  },
  {
   "cell_type": "markdown",
   "metadata": {},
   "source": [
    "----"
   ]
  }
 ],
 "metadata": {
  "kernelspec": {
   "display_name": "base",
   "language": "python",
   "name": "python3"
  },
  "language_info": {
   "codemirror_mode": {
    "name": "ipython",
    "version": 3
   },
   "file_extension": ".py",
   "mimetype": "text/x-python",
   "name": "python",
   "nbconvert_exporter": "python",
   "pygments_lexer": "ipython3",
   "version": "3.9.16"
  },
  "orig_nbformat": 4
 },
 "nbformat": 4,
 "nbformat_minor": 2
}
