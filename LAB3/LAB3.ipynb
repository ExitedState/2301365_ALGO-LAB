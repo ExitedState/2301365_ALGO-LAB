{
 "cells": [
  {
   "cell_type": "markdown",
   "metadata": {},
   "source": [
    "# Greedy Technique\n",
    "\n",
    "Given an array of size n that contain either ‘G’rab car or ‘P’assenger. \n",
    "\n",
    "Each Grab car can pick up only one passenger. And each Grab car cannot pick up a passenger who is more than K units away from Grab car.\n",
    "\n",
    "1. Write a program using Brute force approach to find number of all solutions \n",
    "    that give the maximum number of Passenger(s) that can ride Grab(s).\n",
    "2. Write a program using Greedy Technique to find a solution that gives the maximum number of Passengers(s) that can ride Grab(s).\n",
    "\n",
    "For example, if an array consists of {‘G’, ‘P’, ‘P’, ‘G’, ‘P’} and we set k = 1, \n",
    "\n",
    "then the output the maximum number passenger can ride Grab would be 2. \n",
    "\n",
    "The first Grab picks up the first passenger and the second Grab picks up either the second or third passenger."
   ]
  },
  {
   "cell_type": "markdown",
   "metadata": {},
   "source": [
    "---"
   ]
  },
  {
   "cell_type": "markdown",
   "metadata": {},
   "source": [
    "### Brute force"
   ]
  },
  {
   "cell_type": "code",
   "execution_count": 17,
   "metadata": {},
   "outputs": [
    {
     "name": "stdout",
     "output_type": "stream",
     "text": [
      "['G', 'P', 'P']\n",
      "Maximum passengers: 1\n",
      "Solution 1: [(0, 1)]\n",
      "Solution 2: [(0, 2)]\n"
     ]
    }
   ],
   "source": [
    "def can_pair(grab_index, passenger_index, k):\n",
    "    return abs(grab_index - passenger_index) <= k\n",
    "\n",
    "def cartesian_product(elements, repeat):\n",
    "    \"\"\"\n",
    "    this function helps us to generate all possible combinations of pairings 'G' with passengers\n",
    "\n",
    "    example:\n",
    "    if there are 2 'G'rab cars and 3 passengers -> given p_indices = [1,2,4]\n",
    "    this will generate combinations like [1, 1],[1, 2],[1, 4],[2, 1],[2, 2],[2, 4],[4, 1],[4,2],[4, 4]\n",
    "    \"\"\"\n",
    "    # Base Case\n",
    "    if repeat == 0:\n",
    "        return [[]]\n",
    "    \n",
    "    # Recursive Case: Get smaller product\n",
    "    smaller_product = cartesian_product(elements, repeat-1)\n",
    "    \n",
    "    # Build the product using nested loops\n",
    "    result = []\n",
    "    for x in elements:\n",
    "        for suffix in smaller_product:\n",
    "            combination = [x] + suffix\n",
    "            result.append(combination)\n",
    "            \n",
    "    return result\n",
    "def brute_force_max_passenger(arr, k):\n",
    "    g_indices = [i for i, val in enumerate(arr) if val == 'G']\n",
    "    p_indices = [i for i, val in enumerate(arr) if val == 'P']\n",
    "\n",
    "    max_pairs = 0\n",
    "    solutions = []\n",
    "\n",
    "    for combo in cartesian_product(p_indices, len(g_indices)): \n",
    "        is_valid = True\n",
    "        used = set()\n",
    "        pairs = []\n",
    "\n",
    "        for i in range(len(g_indices)):\n",
    "            if can_pair(g_indices[i], combo[i], k) and combo[i] not in used:\n",
    "                pairs.append((g_indices[i], combo[i]))\n",
    "                used.add(combo[i])\n",
    "            else:\n",
    "                is_valid = False\n",
    "                break\n",
    "\n",
    "        if is_valid and len(pairs) > max_pairs:\n",
    "            max_pairs = len(pairs)\n",
    "            solutions = [pairs]\n",
    "        elif is_valid and len(pairs) == max_pairs:\n",
    "            solutions.append(pairs)\n",
    "\n",
    "    return max_pairs, solutions\n",
    "\n",
    "# Testing\n",
    "arr = ['G', 'P', 'P']\n",
    "k = 2\n",
    "max_passengers, solutions = brute_force_max_passenger(arr, k)\n",
    "\n",
    "print(arr)\n",
    "print(f\"Maximum passengers: {max_passengers}\")\n",
    "for idx, solution in enumerate(solutions, 1):\n",
    "    print(f\"Solution {idx}: {solution}\")\n"
   ]
  },
  {
   "cell_type": "markdown",
   "metadata": {},
   "source": [
    "---"
   ]
  },
  {
   "cell_type": "markdown",
   "metadata": {},
   "source": [
    "### Greedy -> use farthest passenger"
   ]
  },
  {
   "cell_type": "code",
   "execution_count": 18,
   "metadata": {},
   "outputs": [
    {
     "name": "stdout",
     "output_type": "stream",
     "text": [
      "Maximum passengers: 5\n",
      "Solution: [(0, 2), (1, 4), (3, 5), (6, 9), (7, 8)]\n"
     ]
    }
   ],
   "source": [
    "def greedy_max_passenger(arr, k):\n",
    "    n = len(arr)\n",
    "    paired = {}  # Dictionary to mark passengers that have been paired\n",
    "    pairs = []\n",
    "\n",
    "    for i in range(n):\n",
    "        if arr[i] == 'G':\n",
    "            paired_passenger = None\n",
    "\n",
    "            # Find the farthest passenger to the left within k distance\n",
    "            for j in range(i-1-k, i-1+1):\n",
    "                if 0 <= j < n and arr[j] == 'P' and j not in paired:\n",
    "                    paired_passenger = j\n",
    "\n",
    "            # If no passenger was found to the left, find the farthest passenger to the right within k distance\n",
    "            if paired_passenger is None:\n",
    "                for j in range(i+1+k, i+1-1, -1):\n",
    "                    if 0 <= j < n and arr[j] == 'P' and j not in paired:\n",
    "                        paired_passenger = j\n",
    "                        break\n",
    "\n",
    "            # If a passenger was found, add to pairs and mark as paired\n",
    "            if paired_passenger is not None:\n",
    "                pairs.append((i, paired_passenger))\n",
    "                paired[paired_passenger] = True\n",
    "\n",
    "    return len(pairs), pairs\n",
    "\n",
    "# Testing\n",
    "arr = ['G', 'G', 'P', 'G', 'P', 'P','G','G','P','P']\n",
    "k = 2\n",
    "max_passengers, solution = greedy_max_passenger(arr, k)\n",
    "\n",
    "print(f\"Maximum passengers: {max_passengers}\")\n",
    "print(f\"Solution: {solution}\")"
   ]
  },
  {
   "cell_type": "markdown",
   "metadata": {},
   "source": [
    "---"
   ]
  },
  {
   "cell_type": "markdown",
   "metadata": {},
   "source": [
    "### What if we use nearest passenger within the k distance"
   ]
  },
  {
   "cell_type": "code",
   "execution_count": 19,
   "metadata": {},
   "outputs": [
    {
     "name": "stdout",
     "output_type": "stream",
     "text": [
      "Maximum passengers: 4\n",
      "Solution: [(0, 2), (3, 4), (6, 5), (7, 8)]\n"
     ]
    }
   ],
   "source": [
    "def greedy_max_passenger_V2(arr, k):\n",
    "    n = len(arr)\n",
    "    paired = {}  # dictionary can provide O(1) lookup time\n",
    "    pairs = []\n",
    "\n",
    "    for i in range(n):\n",
    "        if arr[i] == 'G':\n",
    "            paired_passenger = None\n",
    "\n",
    "            # Find the nearest passenger to the left within k distance\n",
    "            for j in range(i-1, i-1-k, -1):\n",
    "                if 0 <= j and arr[j] == 'P' and j not in paired:\n",
    "                    paired_passenger = j\n",
    "                    break\n",
    "\n",
    "            # If no passenger was found to the left, find the nearest passenger to the right within k distance\n",
    "            if paired_passenger is None:\n",
    "                for j in range(i+1, i+1+k):\n",
    "                    if j < n and arr[j] == 'P' and j not in paired:\n",
    "                        paired_passenger = j\n",
    "                        break\n",
    "\n",
    "            # If a passenger was found, add to pairs and mark as paired\n",
    "            if paired_passenger is not None:\n",
    "                pairs.append((i, paired_passenger))\n",
    "                paired[paired_passenger] = True\n",
    "\n",
    "    return len(pairs), pairs\n",
    "\n",
    "# Testing\n",
    "arr = ['G', 'G', 'P', 'G', 'P', 'P','G','G','P','P']\n",
    "k = 2\n",
    "max_passengers, solution = greedy_max_passenger_V2(arr, k)\n",
    "\n",
    "print(f\"Maximum passengers: {max_passengers}\")\n",
    "print(f\"Solution: {solution}\")"
   ]
  }
 ],
 "metadata": {
  "kernelspec": {
   "display_name": "base",
   "language": "python",
   "name": "python3"
  },
  "language_info": {
   "codemirror_mode": {
    "name": "ipython",
    "version": 3
   },
   "file_extension": ".py",
   "mimetype": "text/x-python",
   "name": "python",
   "nbconvert_exporter": "python",
   "pygments_lexer": "ipython3",
   "version": "3.9.16"
  },
  "orig_nbformat": 4
 },
 "nbformat": 4,
 "nbformat_minor": 2
}
