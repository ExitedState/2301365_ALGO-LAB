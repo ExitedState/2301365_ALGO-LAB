{
 "cells": [
  {
   "cell_type": "markdown",
   "metadata": {},
   "source": [
    "# Greedy Technique\n",
    "\n",
    "Given an array of size n that contain either ‘G’rab car or ‘P’assenger. \n",
    "\n",
    "Each Grab car can pick up only one passenger. And each Grab car cannot pick up a passenger who is more than K units away from Grab car.\n",
    "\n",
    "1. Write a program using Brute force approach to find number of all solutions \n",
    "    that give the maximum number of Passenger(s) that can ride Grab(s).\n",
    "2. Write a program using Greedy Technique to find a solution that gives the maximum number of Passengers(s) that can ride Grab(s).\n",
    "\n",
    "For example, if an array consists of {‘G’, ‘P’, ‘P’, ‘G’, ‘P’} and we set k = 1, \n",
    "\n",
    "then the output the maximum number passenger can ride Grab would be 2. \n",
    "\n",
    "The first Grab picks up the first passenger and the second Grab picks up either the second or third passenger."
   ]
  },
  {
   "cell_type": "code",
   "execution_count": null,
   "metadata": {
    "vscode": {
     "languageId": "plaintext"
    }
   },
   "outputs": [],
   "source": []
  }
 ],
 "metadata": {
  "language_info": {
   "name": "python"
  },
  "orig_nbformat": 4
 },
 "nbformat": 4,
 "nbformat_minor": 2
}
