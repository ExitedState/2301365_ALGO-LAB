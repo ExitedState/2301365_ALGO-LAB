{
 "cells": [
  {
   "cell_type": "markdown",
   "metadata": {},
   "source": [
    "### Brute Force\n",
    "\n",
    "A Hamiltonian path (or traceable path) is a path in an undirected or directed graph that visits each vertex exactly once. A Hamiltonian cycle (or Hamiltonian circuit) is a cycle that visits each vertex exactly once. A Hamiltonian path that starts and ends at adjacent vertices can be completed by adding one more edge to form a Hamiltonian cycle and removing any edge from a Hamiltonian cycle produces a Hamiltonian path.\n",
    "(https://en.wikipedia.org/wiki/Hamiltonian_path)"
   ]
  },
  {
   "cell_type": "markdown",
   "metadata": {},
   "source": [
    "#### Write a program to\n",
    "1. Determine whether a given graph has a path from given u to given v or not ($Path(u,v)$). If there is a path, print that path.\n",
    "2. Check whether a given graph has a Hamiltonian path/cycle. If there is a path/cycle, print that path/cycle.\n",
    "\n",
    "    **Please note that Information will be provided by various sizes of adjacency Matrix**"
   ]
  },
  {
   "cell_type": "markdown",
   "metadata": {},
   "source": [
    "---"
   ]
  },
  {
   "cell_type": "code",
   "execution_count": 112,
   "metadata": {},
   "outputs": [],
   "source": [
    "import networkx as nx\n",
    "import matplotlib.pyplot as plt\n",
    "import time\n",
    "\n",
    "def draw_graph(matrix):\n",
    "    G = nx.Graph()\n",
    "    for i in range(len(matrix)):\n",
    "        for j in range(len(matrix[i])):\n",
    "            if matrix[i][j] == 1:\n",
    "                G.add_edge(i, j)\n",
    "    pos = nx.shell_layout(G)\n",
    "    plt.figure(figsize=(2,2))  \n",
    "    nx.draw(G, pos,with_labels=True, node_color='skyblue', node_size=200, font_size=10)\n",
    "    plt.show()\n",
    "\n",
    "def draw_solution(matrix, paths, cycles=False):\n",
    "    \"\"\"\n",
    "    Visualize a graph represented by an adjacency matrix and highlight multiple paths (show all paths)\n",
    "    \n",
    "    Parameters:\n",
    "    - matrix (List[List[int]]): Adjacency matrix representing the graph.\n",
    "                                 An entry of 1 at matrix[i][j] indicates an edge from node i to node j.\n",
    "    - paths (List[List[int]]): List of paths, where each path is a list of nodes to be highlighted.\n",
    "    \"\"\"\n",
    "    G = nx.Graph()\n",
    "    for i in range(len(matrix)):\n",
    "        for j in range(len(matrix[i])):\n",
    "            if matrix[i][j] == 1:\n",
    "                G.add_edge(i, j)\n",
    "    pos = nx.shell_layout(G)\n",
    "    for path in paths:\n",
    "        plt.figure(figsize=(2,2)) \n",
    "        # Draw the entire graph in a light color\n",
    "        nx.draw(G, pos, with_labels=True, node_color='skyblue', node_size=200, font_size=10, edge_color='lightgray')\n",
    "        # Highlight the solution path\n",
    "        edges = [(path[i], path[i+1]) for i in range(len(path)-1)]\n",
    "        if cycles:  # Check if the first and last nodes are connected\n",
    "            edges.append((path[-1], path[0]))  # Add the edge to close the cycle\n",
    "        nx.draw_networkx_edges(G, pos, edgelist=edges, edge_color='r', width=2)\n",
    "        plt.show()\n",
    "\n",
    "def draw_current_path(matrix, path):\n",
    "    \"\"\"\n",
    "    Visualize a graph represented by an adjacency matrix and highlight a single path.\n",
    "    \n",
    "    Parameters:\n",
    "    - matrix (List[List[int]]): Adjacency matrix representing the graph.\n",
    "                                 An entry of 1 at matrix[i][j] indicates an edge from node i to node j.\n",
    "    - path (List[int]): Path of nodes to be highlighted.\n",
    "    \"\"\"\n",
    "    G = nx.Graph()\n",
    "    for i in range(len(matrix)):\n",
    "        for j in range(len(matrix[i])):\n",
    "            if matrix[i][j] == 1:\n",
    "                G.add_edge(i, j)\n",
    "    pos = nx.shell_layout(G)\n",
    "    plt.figure(figsize=(2,2))\n",
    "    # Draw the entire graph in light colors\n",
    "    nx.draw(G, pos, with_labels=True, node_color='skyblue', node_size=200, font_size=10, edge_color='lightgray')\n",
    "    # Highlight the current path\n",
    "    edges = [(path[i], path[i+1]) for i in range(len(path)-1)]\n",
    "    nx.draw_networkx_edges(G, pos, edgelist=edges, edge_color='r', width=2)\n",
    "    plt.draw()\n",
    "    plt.pause(1)  # Pause to observe the drawing"
   ]
  },
  {
   "cell_type": "code",
   "execution_count": 113,
   "metadata": {},
   "outputs": [],
   "source": [
    "tracks = []"
   ]
  },
  {
   "cell_type": "code",
   "execution_count": 114,
   "metadata": {},
   "outputs": [],
   "source": [
    "def find_all_paths(matrix, start, end, path=[]):\n",
    "    path = path + [start]\n",
    "    global track\n",
    "    tracks.append(path)\n",
    "    \n",
    "    # Base case: if the start is same as end, we found a path\n",
    "    if start == end:\n",
    "        return [path]\n",
    "    paths = []  # to store all possible paths\n",
    "    for i in range(len(matrix[start])):\n",
    "        # if there's an edge and the node hasn't been visited yet\n",
    "        if matrix[start][i] == 1 and i not in path:\n",
    "            newpaths = find_all_paths(matrix, i, end, path)\n",
    "            for newpath in newpaths:\n",
    "                paths.append(newpath)\n",
    "    return paths"
   ]
  },
  {
   "cell_type": "markdown",
   "metadata": {},
   "source": [
    "----"
   ]
  },
  {
   "cell_type": "markdown",
   "metadata": {},
   "source": [
    "#### Check Hamiltonian path/cycle"
   ]
  },
  {
   "cell_type": "code",
   "execution_count": 115,
   "metadata": {},
   "outputs": [],
   "source": [
    "def find_hamiltonian_paths(matrix):\n",
    "    n = len(matrix) # Number of nodes\n",
    "    hamiltonian_paths = []\n",
    "\n",
    "    # For each pair of nodes, find all paths\n",
    "    for start in range(n):\n",
    "        for end in range(n):\n",
    "            if start != end:\n",
    "                paths = find_all_paths(matrix, start, end)\n",
    "                # For each path, check if it's a Hamiltonian path\n",
    "                for path in paths:\n",
    "                    if len(path) == n:\n",
    "                        hamiltonian_paths.append(path)\n",
    "    \n",
    "    return hamiltonian_paths"
   ]
  },
  {
   "cell_type": "code",
   "execution_count": 116,
   "metadata": {},
   "outputs": [],
   "source": [
    "def find_hamiltonian_cycles(matrix):\n",
    "    hamiltonian_paths = find_hamiltonian_paths(matrix)\n",
    "    hamiltonian_cycles = []\n",
    "\n",
    "    for path in hamiltonian_paths:\n",
    "        # Check if start and end nodes of the path are connected\n",
    "        if matrix[path[0]][path[-1]] == 1:\n",
    "            hamiltonian_cycles.append(path)\n",
    "    \n",
    "    return hamiltonian_cycles"
   ]
  },
  {
   "cell_type": "code",
   "execution_count": 117,
   "metadata": {},
   "outputs": [],
   "source": [
    "def remove_duplicate(cycles):\n",
    "    unique_cycles_set = set()\n",
    "\n",
    "    for cycle in cycles:\n",
    "        sorted_cycle = tuple(sorted(cycle))\n",
    "        unique_cycles_set.add(sorted_cycle)\n",
    "\n",
    "    unique_cycles = [list(tup) for tup in unique_cycles_set]\n",
    "\n",
    "    return unique_cycles"
   ]
  },
  {
   "cell_type": "code",
   "execution_count": 118,
   "metadata": {},
   "outputs": [
    {
     "data": {
      "image/png": "[encoded data removed]",
      "text/plain": [
       "<Figure size 200x200 with 1 Axes>"
      ]
     },
     "metadata": {},
     "output_type": "display_data"
    },
    {
     "data": {
      "image/png": "[encoded data removed]",
      "text/plain": [
       "<Figure size 200x200 with 1 Axes>"
      ]
     },
     "metadata": {},
     "output_type": "display_data"
    },
    {
     "data": {
      "image/png": "[encoded data removed]",
      "text/plain": [
       "<Figure size 200x200 with 1 Axes>"
      ]
     },
     "metadata": {},
     "output_type": "display_data"
    },
    {
     "name": "stdout",
     "output_type": "stream",
     "text": [
      "All Hamiltonian paths:\n"
     ]
    },
    {
     "data": {
      "image/png": "[encoded data removed]",
      "text/plain": [
       "<Figure size 200x200 with 1 Axes>"
      ]
     },
     "metadata": {},
     "output_type": "display_data"
    },
    {
     "name": "stdout",
     "output_type": "stream",
     "text": [
      "All Hamiltonian cycles:\n"
     ]
    },
    {
     "data": {
      "image/png": "[encoded data removed]",
      "text/plain": [
       "<Figure size 200x200 with 1 Axes>"
      ]
     },
     "metadata": {},
     "output_type": "display_data"
    }
   ],
   "source": [
    "graph_matrix = [\n",
    "    [0, 1, 0, 0, 0, 1],\n",
    "    [1, 0, 1, 0, 0, 0],\n",
    "    [0, 1, 0, 1, 0, 0],\n",
    "    [0, 0, 1, 0, 1, 0],\n",
    "    [0, 0, 0, 1, 0, 1],\n",
    "    [1, 0, 0, 0, 1, 0]\n",
    "]\n",
    "draw_graph(graph_matrix)\n",
    "\n",
    "paths = find_all_paths(graph_matrix, 0, 1)\n",
    "paths = remove_duplicate(paths)\n",
    "draw_solution(graph_matrix, paths)\n",
    "\n",
    "paths = find_hamiltonian_paths(graph_matrix)\n",
    "paths = remove_duplicate(paths)\n",
    "print(\"All Hamiltonian paths:\")\n",
    "draw_solution(graph_matrix, paths)\n",
    "\n",
    "print(\"All Hamiltonian cycles:\")\n",
    "cycle = find_hamiltonian_cycles(graph_matrix)\n",
    "cycle = remove_duplicate(cycle)\n",
    "draw_solution(graph_matrix, cycle, cycles=True)\n"
   ]
  },
  {
   "cell_type": "code",
   "execution_count": null,
   "metadata": {},
   "outputs": [],
   "source": []
  }
 ],
 "metadata": {
  "kernelspec": {
   "display_name": "base",
   "language": "python",
   "name": "python3"
  },
  "language_info": {
   "codemirror_mode": {
    "name": "ipython",
    "version": 3
   },
   "file_extension": ".py",
   "mimetype": "text/x-python",
   "name": "python",
   "nbconvert_exporter": "python",
   "pygments_lexer": "ipython3",
   "version": "3.9.16"
  },
  "orig_nbformat": 4
 },
 "nbformat": 4,
 "nbformat_minor": 2
}
