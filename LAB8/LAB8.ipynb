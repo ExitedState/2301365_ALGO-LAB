{
 "cells": [
  {
   "cell_type": "code",
   "execution_count": 27,
   "metadata": {},
   "outputs": [
    {
     "data": {
      "text/plain": [
       "[0, 2, 1, 3]"
      ]
     },
     "execution_count": 27,
     "metadata": {},
     "output_type": "execute_result"
    }
   ],
   "source": [
    "n = 3\n",
    "arr = [i for i in range(n+1)]\n",
    "def DaC(arr):\n",
    "    return arr if len(arr)==1 else DaC(arr[::2])+DaC(arr[1::2])\n",
    "DaC(arr)"
   ]
  },
  {
   "cell_type": "code",
   "execution_count": 30,
   "metadata": {},
   "outputs": [
    {
     "name": "stdout",
     "output_type": "stream",
     "text": [
      "[[0, 1, 2, 3], [0, 1, 3, 2], [0, 3, 1, 2], [0, 3, 2, 1], [1, 0, 2, 3], [1, 2, 0, 3], [1, 2, 3, 0], [2, 1, 0, 3], [2, 1, 3, 0], [2, 3, 1, 0], [3, 0, 1, 2], [3, 0, 2, 1], [3, 2, 0, 1], [3, 2, 1, 0]]\n"
     ]
    }
   ],
   "source": [
    "def naive(arr):\n",
    "    def permutation(arr):\n",
    "        if len(arr)==1:\n",
    "            return [arr]\n",
    "        else:\n",
    "            return [[arr[i]]+p for i in range(len(arr)) for p in permutation(arr[:i]+arr[i+1:])]\n",
    "    ans = []\n",
    "    for arr in permutation(arr):\n",
    "        n = len(arr)\n",
    "        flag = False\n",
    "        for i in range(n):\n",
    "            if flag: break\n",
    "            for j in range(i+2,n):\n",
    "                if flag: break\n",
    "                for k in range(i+1,j):\n",
    "                    if 2*arr[k] == arr[i]+arr[j]:\n",
    "                        flag = True\n",
    "                        break\n",
    "        if flag:\n",
    "            ans.append(arr)\n",
    "    return ans\n",
    "\n",
    "print(naive(arr))    "
   ]
  }
 ],
 "metadata": {
  "kernelspec": {
   "display_name": "base",
   "language": "python",
   "name": "python3"
  },
  "language_info": {
   "codemirror_mode": {
    "name": "ipython",
    "version": 3
   },
   "file_extension": ".py",
   "mimetype": "text/x-python",
   "name": "python",
   "nbconvert_exporter": "python",
   "pygments_lexer": "ipython3",
   "version": "3.9.16"
  }
 },
 "nbformat": 4,
 "nbformat_minor": 2
}
