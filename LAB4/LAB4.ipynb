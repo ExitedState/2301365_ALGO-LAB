{
 "cells": [
  {
   "cell_type": "markdown",
   "metadata": {},
   "source": [
    "## Dynamic Programming\n",
    "\n",
    "Coin Change Problem: find a number of ways of making changes for a particular amount of money, N, using a given set of denominations d1 … dm (value of coin)\n",
    "\n",
    "For example, for N=44, D={11,22,33}, there are four solutions: {11,11,11,11}, {11,11,22}, {22,22},{11,33}\n",
    "\n",
    "Show the recurrence equation and write a program using a dynamic programming approach to solve this problem."
   ]
  },
  {
   "cell_type": "markdown",
   "metadata": {},
   "source": [
    "```python\n",
    "Amount = 5\n",
    "coins [] = {1,2,3}\n",
    "Ways to make change = 5\n",
    "{1,1,1,1,1} {1,1,1,2}, {1,2,2}, {1,1,3} {2,3}\n",
    "```"
   ]
  },
  {
   "cell_type": "markdown",
   "metadata": {},
   "source": [
    "## The Minimum Coin Change Problem:\n",
    "\n",
    "From the above problem, extend the solution to find the “minimum” number of coins to make a change.\n",
    "\n",
    "Show the recurrence equation and write a program using a dynamic programming approach to solve this problem."
   ]
  },
  {
   "cell_type": "markdown",
   "metadata": {},
   "source": [
    "```python\n",
    "Amount = 5\n",
    "coins [] = {1,2,3}\n",
    "Minimum of Coin is 2\n",
    "{2,3}\n",
    "```"
   ]
  },
  {
   "cell_type": "markdown",
   "metadata": {},
   "source": [
    "---"
   ]
  },
  {
   "cell_type": "code",
   "execution_count": 38,
   "metadata": {
    "notebookRunGroups": {
     "groupValue": "12"
    }
   },
   "outputs": [],
   "source": [
    "# Read data from test file\n",
    "with open('./Example_LAB_4.txt', 'r') as file:\n",
    "    lines = file.readlines()\n",
    "    \n",
    "N = int(lines[0].strip())  \n",
    "D = list(map(int, lines[1].split()))  "
   ]
  },
  {
   "cell_type": "code",
   "execution_count": 39,
   "metadata": {
    "notebookRunGroups": {
     "groupValue": "12"
    }
   },
   "outputs": [
    {
     "name": "stdout",
     "output_type": "stream",
     "text": [
      "N = 5\n",
      "D = [1, 2, 3]\n"
     ]
    }
   ],
   "source": [
    "print(f\"N = {N}\\nD = {D}\")"
   ]
  },
  {
   "cell_type": "markdown",
   "metadata": {},
   "source": [
    "---"
   ]
  },
  {
   "cell_type": "code",
   "execution_count": 40,
   "metadata": {
    "notebookRunGroups": {
     "groupValue": ""
    }
   },
   "outputs": [],
   "source": [
    "# 1\n",
    "def coinChangeWays(amount, coins):\n",
    "    m = len(coins)\n",
    "\n",
    "    dp = [[0] * (amount + 1) for _ in range(m+1)]\n",
    "\n",
    "    for i in range(m+1):\n",
    "        dp[i][0] = 1\n",
    "\n",
    "    for i in range(1, m+1):\n",
    "        for j in range(1, amount+1):\n",
    "            if coins[i - 1] > j:\n",
    "                dp[i][j] = dp[i - 1][j]\n",
    "            else:\n",
    "                dp[i][j] = dp[i-1][j] + dp[i][j-coins[i-1]]\n",
    "            # print(dp)\n",
    "    return dp[m][amount]\n",
    "\n",
    "# 2\n",
    "def minCoinChange(amount, coins):\n",
    "    dp = [float('inf')] * (amount + 1)\n",
    "    dp[0] = 0\n",
    "    for i in range(1, amount+1):\n",
    "        for coin in coins:\n",
    "            if i - coin >= 0:\n",
    "                dp[i] = min(dp[i], 1 + dp[i - coin])\n",
    "    return dp[amount]\n"
   ]
  },
  {
   "cell_type": "code",
   "execution_count": 41,
   "metadata": {
    "notebookRunGroups": {
     "groupValue": ""
    }
   },
   "outputs": [
    {
     "name": "stdout",
     "output_type": "stream",
     "text": [
      "Ways to make change = 5\n",
      "Minimum of Coin is 2\n"
     ]
    }
   ],
   "source": [
    "print(f\"Ways to make change = {coinChangeWays(N, D)}\")\n",
    "print(f\"Minimum of Coin is {minCoinChange(N, D)}\")"
   ]
  },
  {
   "cell_type": "markdown",
   "metadata": {},
   "source": [
    "---"
   ]
  },
  {
   "cell_type": "code",
   "execution_count": 42,
   "metadata": {
    "notebookRunGroups": {
     "groupValue": "1"
    }
   },
   "outputs": [],
   "source": [
    "def coinChangeCombinations(N, D):\n",
    "    m = len(D)\n",
    "    # Initialize dp with empty solutions\n",
    "    dp = [[[] for _ in range(N+1)] for _ in range(m+1)]\n",
    "    \n",
    "    # There's one way to make change for 0, that is using no coins\n",
    "    for i in range(m+1):\n",
    "        dp[i][0] = [[]]\n",
    "    \n",
    "    for i in range(1, m+1):  # for each coin denomination\n",
    "        for j in range(1, N+1):  # for each amount from 1 to N\n",
    "            # Exclude the coin\n",
    "            dp[i][j] = dp[i-1][j]\n",
    "            \n",
    "            # Include the coin\n",
    "            if j >= D[i-1]:\n",
    "                for solution in dp[i][j-D[i-1]]:\n",
    "                    dp[i][j].append(solution + [D[i-1]])\n",
    "    return dp[m][N]"
   ]
  },
  {
   "cell_type": "code",
   "execution_count": 43,
   "metadata": {
    "notebookRunGroups": {
     "groupValue": "1"
    }
   },
   "outputs": [
    {
     "name": "stdout",
     "output_type": "stream",
     "text": [
      "Ways to make change = 5\n",
      "[1, 1, 1, 1, 1]\n",
      "[1, 1, 1, 2]\n",
      "[1, 2, 2]\n",
      "[1, 1, 3]\n",
      "[2, 3]\n"
     ]
    }
   ],
   "source": [
    "solutions = coinChangeCombinations(N, D)\n",
    "print(f\"Ways to make change = {len(solutions)}\")\n",
    "for solution in solutions:\n",
    "    print(solution)"
   ]
  },
  {
   "cell_type": "code",
   "execution_count": 44,
   "metadata": {
    "notebookRunGroups": {
     "groupValue": "2"
    }
   },
   "outputs": [],
   "source": [
    "def min_coins(amount, coins):\n",
    "    m = len(coins)\n",
    "    # Initialize dp with empty solutions\n",
    "    dp = [[float('inf')] * (amount + 1) for _ in range(m + 1)]\n",
    "    # Table to store the actual coins used to make up an amount\n",
    "    coins_used = [[[] for _ in range(amount + 1)] for _ in range(m + 1)]\n",
    "    \n",
    "    for i in range(m + 1):\n",
    "        dp[i][0] = 0\n",
    "\n",
    "    for i in range(1, m + 1):\n",
    "        for j in range(1, amount + 1):\n",
    "            if coins[i - 1] <= j and 1 + dp[i][j - coins[i-1]] < dp[i-1][j]:\n",
    "                dp[i][j] = 1 + dp[i][j - coins[i-1]]\n",
    "                coins_used[i][j] = coins_used[i][j - coins[i-1]] + [coins[i-1]]\n",
    "            else:\n",
    "                dp[i][j] = dp[i-1][j]\n",
    "                coins_used[i][j] = coins_used[i-1][j]\n",
    "\n",
    "    if dp[m][amount] == float('inf'):\n",
    "        return -1, []\n",
    "    return dp[m][amount], coins_used[m][amount]"
   ]
  },
  {
   "cell_type": "code",
   "execution_count": 45,
   "metadata": {
    "notebookRunGroups": {
     "groupValue": "2"
    }
   },
   "outputs": [
    {
     "name": "stdout",
     "output_type": "stream",
     "text": [
      "Minimum of Coin is 2\n",
      "[2, 3]\n"
     ]
    }
   ],
   "source": [
    "min_count, coins_solution = min_coins(N, D)\n",
    "print(f\"Minimum of Coin is {min_count}\")\n",
    "print(f\"{coins_solution}\")"
   ]
  }
 ],
 "metadata": {
  "kernelspec": {
   "display_name": "base",
   "language": "python",
   "name": "python3"
  },
  "language_info": {
   "codemirror_mode": {
    "name": "ipython",
    "version": 3
   },
   "file_extension": ".py",
   "mimetype": "text/x-python",
   "name": "python",
   "nbconvert_exporter": "python",
   "pygments_lexer": "ipython3",
   "version": "3.9.16"
  },
  "orig_nbformat": 4
 },
 "nbformat": 4,
 "nbformat_minor": 2
}
