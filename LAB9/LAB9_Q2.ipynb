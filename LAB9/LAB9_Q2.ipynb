{
 "cells": [
  {
   "cell_type": "markdown",
   "metadata": {},
   "source": [
    "---\n",
    "# Q2\n",
    "---"
   ]
  },
  {
   "cell_type": "code",
   "execution_count": 1,
   "metadata": {},
   "outputs": [
    {
     "name": "stdout",
     "output_type": "stream",
     "text": [
      "['X', 'Y']\n",
      "XYXY\n",
      "XXYXYYXYXYXX\n"
     ]
    }
   ],
   "source": [
    "from utils import read_test_cases_from_txt\n",
    "\n",
    "alphabet_set, pattern, text = read_test_cases_from_txt('./Example_LAB9.txt')\n",
    "print(alphabet_set)\n",
    "print(pattern)\n",
    "print(text)"
   ]
  },
  {
   "cell_type": "code",
   "execution_count": 2,
   "metadata": {},
   "outputs": [],
   "source": [
    "def naive_search(pattern, text, direction='LR'):\n",
    "    \"\"\"\n",
    "    Perform a naive search to find all occurrences of a pattern in a text.\n",
    "\n",
    "    Parameters:\n",
    "    - pattern (str): The pattern to search for.\n",
    "    - text (str): The text to search within.\n",
    "    - direction (str): Search direction, 'LR' (left-to-right) or 'RL' (right-to-left).\n",
    "\n",
    "    Returns:\n",
    "    - list of tuples: Each tuple contains the index of the first character of an occurrence and the search direction.\n",
    "    \"\"\"\n",
    "    results = []\n",
    "\n",
    "    if direction == 'RL':\n",
    "        pattern = pattern[::-1]\n",
    "\n",
    "    for i in range(len(text) - len(pattern) + 1):\n",
    "        match = True\n",
    "        for j in range(len(pattern)):\n",
    "            if text[i + j] != pattern[j]:\n",
    "                match = False\n",
    "                break\n",
    "        if match:\n",
    "            if direction == 'RL':\n",
    "                # Calculate the index for the original text direction\n",
    "                results.append((i + len(pattern), direction))\n",
    "            else:\n",
    "                results.append((i+1, direction))\n",
    "\n",
    "    return results"
   ]
  },
  {
   "cell_type": "code",
   "execution_count": 3,
   "metadata": {},
   "outputs": [
    {
     "name": "stdout",
     "output_type": "stream",
     "text": [
      "4\n",
      "2 LR\n",
      "7 LR\n",
      "9 RL\n",
      "11 RL\n"
     ]
    }
   ],
   "source": [
    "# Perform KMP search in both directions\n",
    "results_lr= naive_search(pattern, text, 'LR')\n",
    "results_rl = naive_search(pattern, text, 'RL')\n",
    "\n",
    "# Combine results and sort them based on the index\n",
    "combined_results = results_lr + results_rl\n",
    "\n",
    "print(len(combined_results))\n",
    "# Print the combined results\n",
    "for result in combined_results:\n",
    "    print(f\"{result[0]} {result[1]}\")"
   ]
  }
 ],
 "metadata": {
  "kernelspec": {
   "display_name": "base",
   "language": "python",
   "name": "python3"
  },
  "language_info": {
   "codemirror_mode": {
    "name": "ipython",
    "version": 3
   },
   "file_extension": ".py",
   "mimetype": "text/x-python",
   "name": "python",
   "nbconvert_exporter": "python",
   "pygments_lexer": "ipython3",
   "version": "3.9.16"
  }
 },
 "nbformat": 4,
 "nbformat_minor": 2
}
