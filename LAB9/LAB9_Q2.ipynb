{
 "cells": [
  {
   "cell_type": "markdown",
   "metadata": {},
   "source": [
    "---\n",
    "# Q2\n",
    "---"
   ]
  },
  {
   "cell_type": "code",
   "execution_count": 13,
   "metadata": {},
   "outputs": [
    {
     "name": "stdout",
     "output_type": "stream",
     "text": [
      "['X', 'Y']\n",
      "XYXY\n",
      "XXYXYYXYXYXX\n"
     ]
    }
   ],
   "source": [
    "def read_test_cases_from_txt(filename):\n",
    "    with open(filename, 'r', encoding='utf-8') as file:\n",
    "        lines = file.readlines()\n",
    "\n",
    "    # Check if file has the expected number of lines\n",
    "    if len(lines) < 4:\n",
    "        raise ValueError(\"The file does not contain enough lines for a test case.\")\n",
    "\n",
    "    # Parse the alphabet set\n",
    "    alphabet_set = lines[0].strip().split()\n",
    "\n",
    "    # Parse the lengths of the pattern and the text\n",
    "    lengths = lines[1].strip().split()\n",
    "    pattern_length = int(lengths[0])\n",
    "    text_length = int(lengths[1])\n",
    "\n",
    "    # Parse the pattern\n",
    "    pattern = ''.join(lines[2].split())\n",
    "    if len(pattern) != pattern_length:\n",
    "        raise ValueError(\"The pattern length does not match the specified length.\")\n",
    "\n",
    "    # Parse the text\n",
    "    text = ''.join(lines[3].split())\n",
    "    if len(text) != text_length:\n",
    "        raise ValueError(\"The text length does not match the specified length.\")\n",
    "\n",
    "    return alphabet_set, pattern, text\n",
    "\n",
    "alphabet_set, pattern, text = read_test_cases_from_txt('./Example_LAB9.txt')\n",
    "print(alphabet_set)\n",
    "print(pattern)\n",
    "print(text)"
   ]
  },
  {
   "cell_type": "code",
   "execution_count": 14,
   "metadata": {},
   "outputs": [],
   "source": [
    "def naive_search(pattern, text, direction='LR'):\n",
    "    \"\"\"\n",
    "    Perform a naive search to find all occurrences of a pattern in a text.\n",
    "\n",
    "    Parameters:\n",
    "    - pattern (str): The pattern to search for.\n",
    "    - text (str): The text to search within.\n",
    "    - direction (str): Search direction, 'LR' (left-to-right) or 'RL' (right-to-left).\n",
    "\n",
    "    Returns:\n",
    "    - list of tuples: Each tuple contains the index of the first character of an occurrence and the search direction.\n",
    "    \"\"\"\n",
    "    results = []\n",
    "\n",
    "    if direction == 'RL':\n",
    "        pattern = pattern[::-1]\n",
    "\n",
    "    for i in range(len(text) - len(pattern) + 1):\n",
    "        match = True\n",
    "        for j in range(len(pattern)):\n",
    "            if text[i + j] != pattern[j]:\n",
    "                match = False\n",
    "                break\n",
    "        if match:\n",
    "            if direction == 'RL':\n",
    "                # Calculate the index for the original text direction\n",
    "                results.append((i + len(pattern), direction))\n",
    "            else:\n",
    "                results.append((i+1, direction))\n",
    "\n",
    "    return results"
   ]
  },
  {
   "cell_type": "code",
   "execution_count": 16,
   "metadata": {},
   "outputs": [
    {
     "name": "stdout",
     "output_type": "stream",
     "text": [
      "4\n",
      "2 LR\n",
      "7 LR\n",
      "9 RL\n",
      "11 RL\n"
     ]
    }
   ],
   "source": [
    "# Perform KMP search in both directions\n",
    "results_lr= naive_search(pattern, text, 'LR')\n",
    "results_rl = naive_search(pattern, text, 'RL')\n",
    "\n",
    "# Combine results and sort them based on the index\n",
    "combined_results = results_lr + results_rl\n",
    "\n",
    "print(len(combined_results))\n",
    "# Print the combined results\n",
    "for result in combined_results:\n",
    "    print(f\"{result[0]} {result[1]}\")"
   ]
  }
 ],
 "metadata": {
  "kernelspec": {
   "display_name": "base",
   "language": "python",
   "name": "python3"
  },
  "language_info": {
   "codemirror_mode": {
    "name": "ipython",
    "version": 3
   },
   "file_extension": ".py",
   "mimetype": "text/x-python",
   "name": "python",
   "nbconvert_exporter": "python",
   "pygments_lexer": "ipython3",
   "version": "3.9.16"
  }
 },
 "nbformat": 4,
 "nbformat_minor": 2
}
