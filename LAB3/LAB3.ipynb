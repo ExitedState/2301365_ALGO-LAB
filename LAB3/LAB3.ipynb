{
 "cells": [
  {
   "cell_type": "markdown",
   "metadata": {},
   "source": [
    "# Greedy Technique\n",
    "\n",
    "Given an array of size n that contain either ‘G’rab car or ‘P’assenger. \n",
    "\n",
    "Each Grab car can pick up only one passenger. And each Grab car cannot pick up a passenger who is more than K units away from Grab car.\n",
    "\n",
    "1. Write a program using Brute force approach to find number of all solutions \n",
    "    that give the maximum number of Passenger(s) that can ride Grab(s).\n",
    "2. Write a program using Greedy Technique to find a solution that gives the maximum number of Passengers(s) that can ride Grab(s).\n",
    "\n",
    "For example, if an array consists of {‘G’, ‘P’, ‘P’, ‘G’, ‘P’} and we set k = 1, \n",
    "\n",
    "then the output the maximum number passenger can ride Grab would be 2. \n",
    "\n",
    "The first Grab picks up the first passenger and the second Grab picks up either the second or third passenger."
   ]
  },
  {
   "cell_type": "markdown",
   "metadata": {},
   "source": [
    "---"
   ]
  },
  {
   "cell_type": "markdown",
   "metadata": {},
   "source": [
    "## Reading test case"
   ]
  },
  {
   "cell_type": "code",
   "execution_count": 127,
   "metadata": {
    "notebookRunGroups": {
     "groupValue": "12"
    }
   },
   "outputs": [
    {
     "name": "stdout",
     "output_type": "stream",
     "text": [
      "['G', 'P', 'G', 'P', 'G', 'P', 'G', 'P', 'G', 'P', 'G', 'P', 'G', 'P', 'G', 'P', 'G', 'P', 'G', 'P'] \n",
      " 2\n"
     ]
    }
   ],
   "source": [
    "def read_input(filename):\n",
    "    with open(filename, 'r') as f:\n",
    "        arr = list(f.readline().strip())\n",
    "        k = int(f.readline().strip())\n",
    "    return arr, k\n",
    "\n",
    "# The functions 'can_pickup', 'recursive_search' and 'find_max_pickups' remain unchanged from the previous answer\n",
    "\n",
    "# Reading the input\n",
    "filename = 'test.txt'\n",
    "arr, k = read_input(filename)\n",
    "print(arr,\"\\n\",k)"
   ]
  },
  {
   "cell_type": "markdown",
   "metadata": {},
   "source": [
    "### Brute force"
   ]
  },
  {
   "cell_type": "code",
   "execution_count": 126,
   "metadata": {
    "notebookRunGroups": {
     "groupValue": "1"
    }
   },
   "outputs": [
    {
     "name": "stdout",
     "output_type": "stream",
     "text": [
      "Maximum passengers: 10\n",
      "Solution 1: [(0, 1), (2, 3), (4, 5), (6, 7), (8, 9), (10, 11), (12, 13), (14, 15), (16, 17), (18, 19)]\n"
     ]
    }
   ],
   "source": [
    "def can_pickup(g_index, p_index, k):\n",
    "    \"\"\"Checks if a Grab car at g_index can pick up a passenger at p_index\"\"\"\n",
    "    return abs(g_index - p_index) <= k\n",
    "\n",
    "def brute_force(arr, k, start=0, pickups=[]):\n",
    "    \"\"\"Recursively find all possible pairings of Grab cars and passengers\"\"\"\n",
    "    n = len(arr)\n",
    "    max_pickups = len(pickups)\n",
    "    best_solutions = [pickups]\n",
    "\n",
    "    for i in range(start, n):\n",
    "        if arr[i] == 'G':\n",
    "            for j in range(n):\n",
    "                if arr[j] == 'P' and not any(p[1] == j for p in pickups) and can_pickup(i, j, k):\n",
    "                    new_pickups, new_solutions = find_pairings(arr, k, i + 1, pickups + [(i, j)])\n",
    "                    if new_pickups == max_pickups:\n",
    "                        best_solutions.extend(new_solutions)\n",
    "                    elif new_pickups > max_pickups:\n",
    "                        max_pickups = new_pickups\n",
    "                        best_solutions = new_solutions\n",
    "\n",
    "    return max_pickups, best_solutions\n",
    "\n",
    "max_passengers, solutions = brute_force(arr, k)\n",
    "\n",
    "print(f\"Maximum passengers: {max_passengers}\")\n",
    "for idx, solution in enumerate(solutions, 1):\n",
    "    print(f\"Solution {idx}: {solution}\")\n"
   ]
  },
  {
   "cell_type": "markdown",
   "metadata": {},
   "source": [
    "---"
   ]
  },
  {
   "cell_type": "markdown",
   "metadata": {},
   "source": [
    "### Greedy -> use nearest passenger"
   ]
  },
  {
   "cell_type": "code",
   "execution_count": 128,
   "metadata": {
    "notebookRunGroups": {
     "groupValue": "2"
    }
   },
   "outputs": [
    {
     "name": "stdout",
     "output_type": "stream",
     "text": [
      "Maximum passengers: 10\n",
      "Solution: [(0, 1), (2, 3), (4, 5), (6, 7), (8, 9), (10, 11), (12, 13), (14, 15), (16, 17), (18, 19)]\n"
     ]
    }
   ],
   "source": [
    "def greedy_max_passenger_V2(arr, k):\n",
    "    n = len(arr)\n",
    "    paired = {}  # dictionary can provide O(1) lookup time\n",
    "    pairs = []\n",
    "\n",
    "    for i in range(n):\n",
    "        if arr[i] == 'G':\n",
    "            paired_passenger = None\n",
    "\n",
    "            # Find the nearest passenger to the left within k distance\n",
    "            for j in range(i-1, i-1-k, -1):\n",
    "                if 0 <= j and arr[j] == 'P' and j not in paired:\n",
    "                    paired_passenger = j\n",
    "                    break\n",
    "\n",
    "            # If no passenger was found to the left, find the nearest passenger to the right within k distance\n",
    "            if paired_passenger is None:\n",
    "                for j in range(i+1, i+1+k):\n",
    "                    if j < n and arr[j] == 'P' and j not in paired:\n",
    "                        paired_passenger = j\n",
    "                        break\n",
    "\n",
    "            # If a passenger was found, add to pairs and mark as paired\n",
    "            if paired_passenger is not None:\n",
    "                pairs.append((i, paired_passenger))\n",
    "                paired[paired_passenger] = True\n",
    "\n",
    "    return len(pairs), pairs\n",
    "\n",
    "max_passengers, solution = greedy_max_passenger_V2(arr, k)\n",
    "\n",
    "print(f\"Maximum passengers: {max_passengers}\")\n",
    "print(f\"Solution: {solution}\")"
   ]
  },
  {
   "cell_type": "markdown",
   "metadata": {},
   "source": [
    "---"
   ]
  },
  {
   "cell_type": "markdown",
   "metadata": {},
   "source": [
    "### What if we use nearest passenger within the k distance"
   ]
  },
  {
   "cell_type": "code",
   "execution_count": 129,
   "metadata": {
    "notebookRunGroups": {
     "groupValue": "2"
    }
   },
   "outputs": [
    {
     "name": "stdout",
     "output_type": "stream",
     "text": [
      "Maximum passengers: 10\n",
      "Solution: [(0, 1), (2, 3), (4, 5), (6, 7), (8, 9), (10, 11), (12, 13), (14, 15), (16, 17), (18, 19)]\n"
     ]
    }
   ],
   "source": [
    "def greedy_max_passenger_V2(arr, k):\n",
    "    n = len(arr)\n",
    "    paired = {}  # dictionary can provide O(1) lookup time\n",
    "    pairs = []\n",
    "\n",
    "    for i in range(n):\n",
    "        if arr[i] == 'G':\n",
    "            paired_passenger = None\n",
    "\n",
    "            # Find the farthest passenger to the left within k distance\n",
    "            for j in range(i-k, i):\n",
    "                if 0 <= j and arr[j] == 'P' and j not in paired:\n",
    "                    paired_passenger = j\n",
    "                    break\n",
    "\n",
    "            # If no passenger was found to the left, find the farthest passenger to the right within k distance\n",
    "            if paired_passenger is None:\n",
    "                for j in range(i+k, i,-1):\n",
    "                    if j < n and arr[j] == 'P' and j not in paired:\n",
    "                        paired_passenger = j\n",
    "                        break\n",
    "\n",
    "            # If a passenger was found, add to pairs and mark as paired\n",
    "            if paired_passenger is not None:\n",
    "                pairs.append((i, paired_passenger))\n",
    "                paired[paired_passenger] = True\n",
    "\n",
    "    return len(pairs), pairs\n",
    "\n",
    "max_passengers, solution = greedy_max_passenger_V2(arr, k)\n",
    "\n",
    "print(f\"Maximum passengers: {max_passengers}\")\n",
    "print(f\"Solution: {solution}\")"
   ]
  }
 ],
 "metadata": {
  "kernelspec": {
   "display_name": "base",
   "language": "python",
   "name": "python3"
  },
  "language_info": {
   "codemirror_mode": {
    "name": "ipython",
    "version": 3
   },
   "file_extension": ".py",
   "mimetype": "text/x-python",
   "name": "python",
   "nbconvert_exporter": "python",
   "pygments_lexer": "ipython3",
   "version": "3.9.16"
  },
  "orig_nbformat": 4
 },
 "nbformat": 4,
 "nbformat_minor": 2
}
