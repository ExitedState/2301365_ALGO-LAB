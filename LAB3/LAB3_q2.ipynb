{
 "cells": [
  {
   "cell_type": "code",
   "execution_count": 1,
   "metadata": {},
   "outputs": [
    {
     "name": "stdout",
     "output_type": "stream",
     "text": [
      "k: 4\n",
      "Solution: [(0, 1), (3, 2), (6, 5), (7, 8)]\n"
     ]
    }
   ],
   "source": [
    "def greedy_max_passenger(arr, k):\n",
    "    n = len(arr)\n",
    "    paired = {}  # dictionary can provide O(1) lookup time\n",
    "    pairs = []\n",
    "\n",
    "    for i in range(n):\n",
    "        if arr[i] == 'G':\n",
    "            paired_passenger = None\n",
    "\n",
    "            # Find the nearest passenger to the left within k distance\n",
    "            for j in range(i-1, i-1-k, -1):\n",
    "                if 0 <= j and arr[j] == 'P' and j not in paired:\n",
    "                    paired_passenger = j\n",
    "                    break\n",
    "\n",
    "            # If no passenger was found to the left, find the nearest passenger to the right within k distance\n",
    "            if paired_passenger is None:\n",
    "                for j in range(i+1, i+1+k):\n",
    "                    if j < n and arr[j] == 'P' and j not in paired:\n",
    "                        paired_passenger = j\n",
    "                        break\n",
    "\n",
    "            # If a passenger was found, add to pairs and mark as paired\n",
    "            if paired_passenger is not None:\n",
    "                pairs.append((i, paired_passenger))\n",
    "                paired[paired_passenger] = True\n",
    "\n",
    "    return len(pairs), pairs\n",
    "\n",
    "# Testing\n",
    "arr = ['G', 'P', 'P', 'G', 'P', 'P','G','G','P','P']\n",
    "k = 1\n",
    "max_passengers, solution = greedy_max_passenger(arr, k)\n",
    "\n",
    "print(f\"k: {max_passengers}\")\n",
    "print(f\"Solution: {solution}\")\n"
   ]
  },
  {
   "cell_type": "markdown",
   "metadata": {},
   "source": [
    "---"
   ]
  },
  {
   "cell_type": "markdown",
   "metadata": {},
   "source": [
    "### Adapt the solution to find the farthest passenger within the k distance"
   ]
  },
  {
   "cell_type": "code",
   "execution_count": 2,
   "metadata": {},
   "outputs": [
    {
     "name": "stdout",
     "output_type": "stream",
     "text": [
      "k: 4\n",
      "Solution: [(0, 2), (3, 1), (6, 5), (7, 9)]\n"
     ]
    }
   ],
   "source": [
    "def greedy_max_passenger_V2(arr, k):\n",
    "    n = len(arr)\n",
    "    paired = {}  # Dictionary to mark passengers that have been paired\n",
    "    pairs = []\n",
    "\n",
    "    for i in range(n):\n",
    "        if arr[i] == 'G':\n",
    "            paired_passenger = None\n",
    "\n",
    "            # Find the farthest passenger to the left within k distance\n",
    "            for j in range(i-1-k, i-1+1):\n",
    "                if 0 <= j < n and arr[j] == 'P' and j not in paired:\n",
    "                    paired_passenger = j\n",
    "\n",
    "            # If no passenger was found to the left, find the farthest passenger to the right within k distance\n",
    "            if paired_passenger is None:\n",
    "                for j in range(i+1+k, i+1-1, -1):\n",
    "                    if 0 <= j < n and arr[j] == 'P' and j not in paired:\n",
    "                        paired_passenger = j\n",
    "                        break\n",
    "\n",
    "            # If a passenger was found, add to pairs and mark as paired\n",
    "            if paired_passenger is not None:\n",
    "                pairs.append((i, paired_passenger))\n",
    "                paired[paired_passenger] = True\n",
    "\n",
    "    return len(pairs), pairs\n",
    "\n",
    "# Testing\n",
    "arr = ['G', 'P', 'P', 'G', 'P', 'P','G','G','P','P']\n",
    "k = 1\n",
    "max_passengers, solution = greedy_max_passenger_V2(arr, k)\n",
    "\n",
    "print(f\"k: {max_passengers}\")\n",
    "print(f\"Solution: {solution}\")\n"
   ]
  }
 ],
 "metadata": {
  "kernelspec": {
   "display_name": "base",
   "language": "python",
   "name": "python3"
  },
  "language_info": {
   "codemirror_mode": {
    "name": "ipython",
    "version": 3
   },
   "file_extension": ".py",
   "mimetype": "text/x-python",
   "name": "python",
   "nbconvert_exporter": "python",
   "pygments_lexer": "ipython3",
   "version": "3.9.16"
  },
  "orig_nbformat": 4
 },
 "nbformat": 4,
 "nbformat_minor": 2
}
