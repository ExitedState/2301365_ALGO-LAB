{
 "cells": [
  {
   "cell_type": "markdown",
   "metadata": {},
   "source": [
    "# Greedy Technique\n",
    "\n",
    "Given an array of size n that contain either ‘G’rab car or ‘P’assenger. \n",
    "\n",
    "Each Grab car can pick up only one passenger. And each Grab car cannot pick up a passenger who is more than K units away from Grab car.\n",
    "\n",
    "1. Write a program using Brute force approach to find number of all solutions \n",
    "    that give the maximum number of Passenger(s) that can ride Grab(s).\n",
    "2. Write a program using Greedy Technique to find a solution that gives the maximum number of Passengers(s) that can ride Grab(s).\n",
    "\n",
    "For example, if an array consists of {‘G’, ‘P’, ‘P’, ‘G’, ‘P’} and we set k = 1, \n",
    "\n",
    "then the output the maximum number passenger can ride Grab would be 2. \n",
    "\n",
    "The first Grab picks up the first passenger and the second Grab picks up either the second or third passenger."
   ]
  },
  {
   "cell_type": "markdown",
   "metadata": {},
   "source": [
    "---"
   ]
  },
  {
   "cell_type": "markdown",
   "metadata": {},
   "source": [
    "## Reading test case"
   ]
  },
  {
   "cell_type": "code",
   "execution_count": 28,
   "metadata": {
    "notebookRunGroups": {
     "groupValue": "12"
    }
   },
   "outputs": [
    {
     "name": "stdout",
     "output_type": "stream",
     "text": [
      "arr = ['P', 'P', 'G', 'G', 'G', 'G', 'P', 'P', 'P']\n",
      "k   = 3\n"
     ]
    }
   ],
   "source": [
    "def read_input(filename):\n",
    "    with open(filename, 'r') as f:\n",
    "        arr = list(f.readline().strip())\n",
    "        k = int(f.readline().strip())\n",
    "    return arr, k\n",
    "\n",
    "# The functions 'can_pickup', 'recursive_search' and 'find_max_pickups' remain unchanged from the previous answer\n",
    "\n",
    "# Reading the input\n",
    "filename = 'Example_LAB_3.txt'\n",
    "arr, k = read_input(filename)\n",
    "print(f\"arr = {arr}\\nk   = {k}\")"
   ]
  },
  {
   "cell_type": "markdown",
   "metadata": {},
   "source": [
    "### Brute force"
   ]
  },
  {
   "cell_type": "code",
   "execution_count": 29,
   "metadata": {
    "notebookRunGroups": {
     "groupValue": "1"
    }
   },
   "outputs": [
    {
     "name": "stdout",
     "output_type": "stream",
     "text": [
      "arr = ['P', 'P', 'G', 'G', 'G', 'G', 'P', 'P', 'P']\n",
      "k   = 3\n",
      "Maximum passengers: 4\n",
      "all possible solutions: 12\n"
     ]
    }
   ],
   "source": [
    "from itertools import combinations, product\n",
    "\n",
    "def can_pickup(g_index, p_index, k):\n",
    "    \"\"\"Checks if a Grab car at g_index can pick up a passenger at p_index\"\"\"\n",
    "    return abs(g_index - p_index) <= k\n",
    "\n",
    "def brute_force(arr, k):\n",
    "    g_indices = [i for i, x in enumerate(arr) if x == 'G']\n",
    "    p_indices = [i for i, x in enumerate(arr) if x == 'P']\n",
    "    max_pickups = 0\n",
    "    best_solutions = []\n",
    "\n",
    "    for r in range(1, min(len(g_indices), len(p_indices)) + 1):\n",
    "        for pairs in combinations(product(g_indices, p_indices), r):\n",
    "\n",
    "            grab_car_indices = [pair[0] for pair in pairs]\n",
    "            passenger_indices = [pair[1] for pair in pairs]\n",
    "\n",
    "            # Ensure all grab cars and passengers in the pairs are unique\n",
    "            unique_grabs = len(set(grab_car_indices)) == r\n",
    "            unique_passengers = len(set(passenger_indices)) == r\n",
    "\n",
    "            if unique_grabs and unique_passengers:\n",
    "                valid_pairs = all(can_pickup(grab, passenger, k) for grab, passenger in pairs)\n",
    "                if valid_pairs:\n",
    "                    if r > max_pickups:\n",
    "                        max_pickups = r\n",
    "                        best_solutions = [pairs]\n",
    "                    elif r == max_pickups:\n",
    "                        best_solutions.append(pairs)\n",
    "\n",
    "    return max_pickups, best_solutions\n",
    "\n",
    "max_passengers, solutions = brute_force(arr, k)\n",
    "\n",
    "print(f\"arr = {arr}\\nk   = {k}\")\n",
    "print(f\"Maximum passengers: {max_passengers}\")\n",
    "print(f\"all possible solutions: {len(solutions)}\")"
   ]
  },
  {
   "cell_type": "code",
   "execution_count": 30,
   "metadata": {},
   "outputs": [
    {
     "name": "stdout",
     "output_type": "stream",
     "text": [
      "arr = ['P', 'P', 'G', 'G', 'G', 'G', 'P', 'P', 'P']\n",
      "k   = 3\n",
      "Solution 1: ((2, 0), (3, 1), (4, 6), (5, 7)), Total Distance: 8\n",
      "Solution 2: ((2, 0), (3, 1), (4, 6), (5, 8)), Total Distance: 9\n",
      "Solution 3: ((2, 0), (3, 1), (4, 7), (5, 6)), Total Distance: 8\n",
      "Solution 4: ((2, 0), (3, 1), (4, 7), (5, 8)), Total Distance: 10\n",
      "Solution 5: ((2, 0), (3, 6), (4, 1), (5, 7)), Total Distance: 10\n",
      "Solution 6: ((2, 0), (3, 6), (4, 1), (5, 8)), Total Distance: 11\n",
      "Solution 7: ((2, 0), (3, 6), (4, 7), (5, 8)), Total Distance: 11\n",
      "Solution 8: ((2, 1), (3, 0), (4, 6), (5, 7)), Total Distance: 8\n",
      "Solution 9: ((2, 1), (3, 0), (4, 6), (5, 8)), Total Distance: 9\n",
      "Solution 10: ((2, 1), (3, 0), (4, 7), (5, 6)), Total Distance: 8\n",
      "Solution 11: ((2, 1), (3, 0), (4, 7), (5, 8)), Total Distance: 10\n",
      "Solution 12: ((2, 1), (3, 6), (4, 7), (5, 8)), Total Distance: 10\n",
      "\n",
      "--------------------------------------------------\n",
      "\n",
      "Minimum Distance: 8\n",
      "((2, 0), (3, 1), (4, 6), (5, 7))\n",
      "((2, 0), (3, 1), (4, 7), (5, 6))\n",
      "((2, 1), (3, 0), (4, 6), (5, 7))\n",
      "((2, 1), (3, 0), (4, 7), (5, 6))\n",
      "\n",
      "--------------------------------------------------\n",
      "\n",
      "Maximum Distance: 11\n",
      "((2, 0), (3, 6), (4, 1), (5, 8))\n",
      "((2, 0), (3, 6), (4, 7), (5, 8))\n",
      "\n",
      "--------------------------------------------------\n",
      "\n"
     ]
    }
   ],
   "source": [
    "def calculate_distance(solution):\n",
    "    \"\"\"Calculate the total distance for a given solution.\"\"\"\n",
    "    return sum(abs(g - p) for g, p in solution)\n",
    "\n",
    "def get_solutions_for_distance(solutions, distances, target_distance):\n",
    "    \"\"\"Get solutions corresponding to a specific distance.\"\"\"\n",
    "    return [solution for solution, distance in zip(solutions, distances) if distance == target_distance]\n",
    "\n",
    "def print_solutions(title, solutions_list, distance=None):\n",
    "    \"\"\"Print a list of solutions with a title.\"\"\"\n",
    "    if distance is not None:\n",
    "        print(f\"{title} Distance: {distance}\")\n",
    "    for solution in solutions_list:\n",
    "        print(solution)\n",
    "    print(\"\\n\" + \"-\"*50 + \"\\n\")\n",
    "\n",
    "# Calculate distances for each solution\n",
    "distances = [calculate_distance(solution) for solution in solutions]\n",
    "\n",
    "# Find minimum and maximum distances\n",
    "min_distance = min(distances)\n",
    "max_distance = max(distances)\n",
    "\n",
    "# Extract solutions with minimum and maximum distances\n",
    "solutions_with_min_distance = get_solutions_for_distance(solutions, distances, min_distance)\n",
    "solutions_with_max_distance = get_solutions_for_distance(solutions, distances, max_distance)\n",
    "\n",
    "print(f\"arr = {arr}\\nk   = {k}\")\n",
    "# Print all solutions with their distances\n",
    "for idx, (solution, distance) in enumerate(zip(solutions, distances), 1):\n",
    "    print(f\"Solution {idx}: {solution}, Total Distance: {distance}\")\n",
    "\n",
    "print(\"\\n\" + \"-\"*50 + \"\\n\")\n",
    "\n",
    "# Print solutions with minimum and maximum distances\n",
    "print_solutions(\"Minimum\", solutions_with_min_distance, min_distance)\n",
    "print_solutions(\"Maximum\", solutions_with_max_distance, max_distance)"
   ]
  },
  {
   "cell_type": "markdown",
   "metadata": {},
   "source": [
    "---"
   ]
  },
  {
   "cell_type": "markdown",
   "metadata": {},
   "source": [
    "### Greedy"
   ]
  },
  {
   "cell_type": "code",
   "execution_count": 31,
   "metadata": {
    "notebookRunGroups": {
     "groupValue": "2"
    }
   },
   "outputs": [
    {
     "name": "stdout",
     "output_type": "stream",
     "text": [
      "arr = ['P', 'P', 'G', 'G', 'G', 'G', 'P', 'P', 'P']\n",
      "k   = 3\n",
      "Maximum passengers: 4\n",
      "Solution: [(2, 0), (3, 1), (4, 7), (5, 8)]\n",
      "Total distance: 10\n"
     ]
    }
   ],
   "source": [
    "def greedy_max_passenger(arr, k):\n",
    "    n = len(arr)\n",
    "    paired = [False] * n  # To mark passengers that have been paired\n",
    "    pairs = []\n",
    "\n",
    "    # Count number of G's within k distance for each P\n",
    "    p_count = [0] * n\n",
    "    for i in range(n):\n",
    "        if arr[i] == 'P':\n",
    "            for j in range(max(0, i-k), min(n, i+k+1)): # min max used to avoid out of bounds\n",
    "                if arr[j] == 'G':\n",
    "                    p_count[i] += 1\n",
    "\n",
    "    #looking for Grab cars ('G') to pair them up.\n",
    "    for i in range(n):\n",
    "        if arr[i] == 'G':\n",
    "            # Prioritize P with fewest G's around; if tie, pick nearest P\n",
    "            min_count = float('inf') # used to track the minimum count of available Grab cars for any passenger\n",
    "            chosen_p = None # will store the index of the chosen passenger\n",
    "            for j in range(max(0, i-k), min(n, i+k+1)): # เอาไว้หาว่า G นี้มี P ที่น้อยที่สุดอยู่ที่ไหน\n",
    "                if arr[j] == 'P' and not paired[j] and p_count[j] < min_count:\n",
    "                    min_count = p_count[j]\n",
    "                    chosen_p = j\n",
    "\n",
    "            if chosen_p is not None:\n",
    "                pairs.append((i, chosen_p))\n",
    "                paired[chosen_p] = True\n",
    "\n",
    "    return len(pairs), pairs\n",
    "\n",
    "max_passengers, solution = greedy_max_passenger(arr, k)\n",
    "\n",
    "print(f\"arr = {arr}\\nk   = {k}\")\n",
    "print(f\"Maximum passengers: {max_passengers}\")\n",
    "print(f\"Solution: {solution}\")\n",
    "distances = [calculate_distance(solution) for solution in solutions]\n",
    "print(f\"Total distance: {calculate_distance(solution)}\")\n"
   ]
  },
  {
   "cell_type": "markdown",
   "metadata": {},
   "source": [
    "----"
   ]
  }
 ],
 "metadata": {
  "kernelspec": {
   "display_name": "base",
   "language": "python",
   "name": "python3"
  },
  "language_info": {
   "codemirror_mode": {
    "name": "ipython",
    "version": 3
   },
   "file_extension": ".py",
   "mimetype": "text/x-python",
   "name": "python",
   "nbconvert_exporter": "python",
   "pygments_lexer": "ipython3",
   "version": "3.9.16"
  },
  "orig_nbformat": 4
 },
 "nbformat": 4,
 "nbformat_minor": 2
}
