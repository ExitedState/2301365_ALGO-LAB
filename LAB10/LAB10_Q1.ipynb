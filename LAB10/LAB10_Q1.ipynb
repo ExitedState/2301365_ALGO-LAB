{
 "cells": [
  {
   "cell_type": "code",
   "execution_count": 6,
   "metadata": {},
   "outputs": [],
   "source": [
    "from utils import read_test_case1_from_txt\n",
    "from itertools import combinations\n",
    "\n",
    "k,adj_matrix = read_test_case1_from_txt(\"./Testcase_Q1.txt\")"
   ]
  },
  {
   "cell_type": "code",
   "execution_count": 7,
   "metadata": {},
   "outputs": [
    {
     "name": "stdout",
     "output_type": "stream",
     "text": [
      "Yes\n",
      "1 2 5\n",
      "1 3 4\n",
      "2 3 4\n",
      "2 3 5\n"
     ]
    }
   ],
   "source": [
    "# Q1 using vertex cover\n",
    "\n",
    "def is_vertex_cover(adj_matrix, W):\n",
    "    num_vertices = len(adj_matrix)\n",
    "    for i in range(num_vertices):\n",
    "        for j in range(num_vertices):\n",
    "            if adj_matrix[i][j] == 1 and i not in W and j not in W:\n",
    "                return False\n",
    "    return True\n",
    "\n",
    "\n",
    "num_vertices = len(adj_matrix)\n",
    "\n",
    "# Generate combinations within the size limit 'k'\n",
    "valid_vertex_covers = []\n",
    "for r in range(1, k + 1):\n",
    "    possible_W = combinations(range(num_vertices), r)\n",
    "    for W in possible_W:\n",
    "        if is_vertex_cover(adj_matrix, W):\n",
    "            valid_vertex_covers.append(W)\n",
    "\n",
    "# Output valid vertex covers within size limit 'k'\n",
    "if valid_vertex_covers:\n",
    "    print(\"Yes\")\n",
    "    for cover in valid_vertex_covers:\n",
    "        print(' '.join(str(vertex + 1) for vertex in cover))\n",
    "else:\n",
    "    print(\"No\")"
   ]
  }
 ],
 "metadata": {
  "kernelspec": {
   "display_name": "base",
   "language": "python",
   "name": "python3"
  },
  "language_info": {
   "codemirror_mode": {
    "name": "ipython",
    "version": 3
   },
   "file_extension": ".py",
   "mimetype": "text/x-python",
   "name": "python",
   "nbconvert_exporter": "python",
   "pygments_lexer": "ipython3",
   "version": "3.9.16"
  }
 },
 "nbformat": 4,
 "nbformat_minor": 2
}
