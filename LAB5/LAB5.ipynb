{
 "cells": [
  {
   "cell_type": "code",
   "execution_count": 34,
   "metadata": {},
   "outputs": [],
   "source": [
    "def min_triangulation_cost(vertices):\n",
    "    \"\"\"\n",
    "    Calculate the minimum triangulation cost for a convex polygon.\n",
    "    \n",
    "    :param vertices: List of tuples, each tuple is a point (x, y) representing a vertex of the polygon.\n",
    "    :return: Minimum cost of triangulating the polygon.\n",
    "    \"\"\"\n",
    "    \n",
    "    def distance(p1, p2):\n",
    "        \"\"\"Calculate the distance between two points.\"\"\"\n",
    "        return ((p2[0] - p1[0]) ** 2 + (p2[1] - p1[1]) ** 2) ** 0.5\n",
    "    \n",
    "    def perimeter(i, j, k):\n",
    "        \"\"\"Calculate the perimeter of the triangle formed by vertices i, j, and k.\"\"\"\n",
    "        return distance(vertices[i], vertices[j]) + distance(vertices[j], vertices[k]) + distance(vertices[k], vertices[i])\n",
    "\n",
    "    n = len(vertices)\n",
    "    \n",
    "    # Initialize dp table\n",
    "    dp = [[0] * n for _ in range(n)]\n",
    "    \n",
    "    # Fill the dp table\n",
    "    for gap in range(2, n):\n",
    "        for i in range(n - gap):\n",
    "            j = i + gap\n",
    "            dp[i][j] = float('inf')\n",
    "            for k in range(i + 1, j):\n",
    "                cost = dp[i][k] + dp[k][j] + perimeter(i, j, k)\n",
    "                dp[i][j] = min(dp[i][j], cost)\n",
    "                \n",
    "    return dp[0][n-1]\n",
    "\n",
    "def read_vertices_from_file(filename):\n",
    "    \"\"\"\n",
    "    Read the vertices from the given file.\n",
    "    \n",
    "    :param filename: Name of the file to read from.\n",
    "    :return: List of tuples, each tuple is a vertex (x, y).\n",
    "    \"\"\"\n",
    "    with open(filename, 'r') as file:\n",
    "        n = int(file.readline().strip())  # Read the number of vertices as an integer\n",
    "        vertices = []\n",
    "        for _ in range(n):\n",
    "            # Read coordinates as floats\n",
    "            x, y = map(float, file.readline().strip().split())\n",
    "            vertices.append((x, y))\n",
    "    return vertices\n"
   ]
  },
  {
   "cell_type": "code",
   "execution_count": 35,
   "metadata": {},
   "outputs": [],
   "source": [
    "import math\n",
    "def sort_vertices_counterclockwise(vertices):\n",
    "    \"\"\"\n",
    "    Sort the given list of vertices in counterclockwise order.\n",
    "    \n",
    "    :param vertices: List of tuples, each tuple is a point (x, y).\n",
    "    :return: List of tuples sorted in counterclockwise order.\n",
    "    \"\"\"\n",
    "    # Find the centroid of the vertices\n",
    "    cx = sum(x for x, y in vertices) / len(vertices)\n",
    "    cy = sum(y for x, y in vertices) / len(vertices)\n",
    "    \n",
    "    # Sort based on the atan2 of the angle to the centroid\n",
    "    vertices.sort(key=lambda point: math.atan2(point[1] - cy, point[0] - cx))\n",
    "    \n",
    "    return vertices\n"
   ]
  },
  {
   "cell_type": "code",
   "execution_count": 36,
   "metadata": {},
   "outputs": [
    {
     "name": "stdout",
     "output_type": "stream",
     "text": [
      "5\n",
      "89.7081313075153\n"
     ]
    }
   ],
   "source": [
    "vertices = read_vertices_from_file('Example_LAB5.txt')\n",
    "\n",
    "# Sort the vertices in counterclockwise order\n",
    "sorted_vertices = sort_vertices_counterclockwise(vertices)\n",
    "\n",
    "# Calculate and print the minimum triangulation cost\n",
    "print(min_triangulation_cost(sorted_vertices))\n"
   ]
  }
 ],
 "metadata": {
  "kernelspec": {
   "display_name": "base",
   "language": "python",
   "name": "python3"
  },
  "language_info": {
   "codemirror_mode": {
    "name": "ipython",
    "version": 3
   },
   "file_extension": ".py",
   "mimetype": "text/x-python",
   "name": "python",
   "nbconvert_exporter": "python",
   "pygments_lexer": "ipython3",
   "version": "3.9.16"
  },
  "orig_nbformat": 4
 },
 "nbformat": 4,
 "nbformat_minor": 2
}
