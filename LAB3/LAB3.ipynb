{
 "cells": [
  {
   "cell_type": "markdown",
   "metadata": {},
   "source": [
    "# Greedy Technique\n",
    "\n",
    "Given an array of size n that contain either ‘G’rab car or ‘P’assenger. \n",
    "\n",
    "Each Grab car can pick up only one passenger. And each Grab car cannot pick up a passenger who is more than K units away from Grab car.\n",
    "\n",
    "1. Write a program using Brute force approach to find number of all solutions \n",
    "    that give the maximum number of Passenger(s) that can ride Grab(s).\n",
    "2. Write a program using Greedy Technique to find a solution that gives the maximum number of Passengers(s) that can ride Grab(s).\n",
    "\n",
    "For example, if an array consists of {‘G’, ‘P’, ‘P’, ‘G’, ‘P’} and we set k = 1, \n",
    "\n",
    "then the output the maximum number passenger can ride Grab would be 2. \n",
    "\n",
    "The first Grab picks up the first passenger and the second Grab picks up either the second or third passenger."
   ]
  },
  {
   "cell_type": "markdown",
   "metadata": {},
   "source": [
    "---"
   ]
  },
  {
   "cell_type": "markdown",
   "metadata": {},
   "source": [
    "## Reading test case"
   ]
  },
  {
   "cell_type": "code",
   "execution_count": null,
   "metadata": {
    "notebookRunGroups": {
     "groupValue": "12"
    }
   },
   "outputs": [],
   "source": [
    "def read_input(filename):\n",
    "    with open(filename, 'r') as f:\n",
    "        arr = list(f.readline().strip())\n",
    "        k = int(f.readline().strip())\n",
    "    return arr, k\n",
    "\n",
    "# The functions 'can_pickup', 'recursive_search' and 'find_max_pickups' remain unchanged from the previous answer\n",
    "\n",
    "# Reading the input\n",
    "filename = 'Example_LAB_3.txt'\n",
    "arr, k = read_input(filename)\n",
    "print(f\"arr = {arr}\\nk   = {k}\")"
   ]
  },
  {
   "cell_type": "markdown",
   "metadata": {},
   "source": [
    "### Brute force for test small case only"
   ]
  },
  {
   "cell_type": "code",
   "execution_count": null,
   "metadata": {
    "notebookRunGroups": {
     "groupValue": "1"
    }
   },
   "outputs": [],
   "source": [
    "# from itertools import combinations, product\n",
    "\n",
    "# def can_pickup(g_index, p_index, k):\n",
    "#     \"\"\"Checks if a Grab car at g_index can pick up a passenger at p_index\"\"\"\n",
    "#     return abs(g_index - p_index) <= k\n",
    "\n",
    "# def brute_force(arr, k):\n",
    "#     g_indices = [i for i, x in enumerate(arr) if x == 'G']\n",
    "#     p_indices = [i for i, x in enumerate(arr) if x == 'P']\n",
    "#     max_pickups = 0\n",
    "#     best_solutions = []\n",
    "\n",
    "#     for r in range(1, min(len(g_indices), len(p_indices)) + 1):\n",
    "#         for pairs in combinations(product(g_indices, p_indices), r):\n",
    "#             grab_car_indices = [pair[0] for pair in pairs]\n",
    "#             passenger_indices = [pair[1] for pair in pairs]\n",
    "\n",
    "#             # Ensure all grab cars and passengers in the pairs are unique\n",
    "#             unique_grabs = len(set(grab_car_indices)) == r\n",
    "#             unique_passengers = len(set(passenger_indices)) == r\n",
    "\n",
    "#             if unique_grabs and unique_passengers:\n",
    "#                 valid_pairs = all(can_pickup(grab, passenger, k) for grab, passenger in pairs)\n",
    "#                 if valid_pairs:\n",
    "#                     if r > max_pickups:\n",
    "#                         max_pickups = r\n",
    "#                         best_solutions = [pairs]\n",
    "#                     elif r == max_pickups:\n",
    "#                         best_solutions.append(pairs)\n",
    "\n",
    "#     return max_pickups, best_solutions\n",
    "\n",
    "# max_passengers, solutions = brute_force(arr, k)"
   ]
  },
  {
   "cell_type": "code",
   "execution_count": null,
   "metadata": {
    "notebookRunGroups": {
     "groupValue": "2"
    }
   },
   "outputs": [],
   "source": [
    "def calculate_distance(solution):\n",
    "    \"\"\"Calculate the total distance for a given solution.\"\"\"\n",
    "    return sum(abs(g - p) for g, p in solution)\n",
    "\n",
    "def get_solutions_for_distance(solutions, distances, target_distance):\n",
    "    \"\"\"Get solutions corresponding to a specific distance.\"\"\"\n",
    "    return [solution for solution, distance in zip(solutions, distances) if distance == target_distance]\n",
    "\n",
    "def print_solutions(title, solutions_list, distance=None):\n",
    "    \"\"\"Print a list of solutions with a title.\"\"\"\n",
    "    if distance is not None:\n",
    "        print(f\"{title} Distance: {distance}\")\n",
    "    for solution in solutions_list:\n",
    "        print(solution)\n",
    "    print(\"\\n\" + \"-\"*50 + \"\\n\")\n"
   ]
  },
  {
   "cell_type": "code",
   "execution_count": null,
   "metadata": {
    "notebookRunGroups": {
     "groupValue": "1"
    }
   },
   "outputs": [],
   "source": [
    "# print(f\"arr = {arr}\\nk   = {k}\")\n",
    "# print(f\"Maximum passengers: {max_passengers}\")\n",
    "# print(f\"all possible solutions: {len(solutions)}\")"
   ]
  },
  {
   "cell_type": "code",
   "execution_count": null,
   "metadata": {
    "notebookRunGroups": {
     "groupValue": "1"
    }
   },
   "outputs": [],
   "source": [
    "# # Calculate distances for each solution\n",
    "# distances = [calculate_distance(solution) for solution in solutions]\n",
    "\n",
    "# # Find minimum and maximum distances\n",
    "# min_distance = min(distances)\n",
    "# max_distance = max(distances)\n",
    "\n",
    "# # Extract solutions with minimum and maximum distances\n",
    "# solutions_with_min_distance = get_solutions_for_distance(solutions, distances, min_distance)\n",
    "# solutions_with_max_distance = get_solutions_for_distance(solutions, distances, max_distance)\n",
    "\n",
    "# # Print all solutions with their distances\n",
    "# for idx, (solution, distance) in enumerate(zip(solutions, distances), 1):\n",
    "#     print(f\"Solution {idx}: {solution}, Total Distance: {distance}\")\n",
    "\n",
    "# print(\"\\n\" + \"-\"*50 + \"\\n\")\n",
    "\n",
    "# # Print solutions with minimum and maximum distances\n",
    "# print_solutions(\"Minimum\", solutions_with_min_distance, min_distance)\n",
    "# print_solutions(\"Maximum\", solutions_with_max_distance, max_distance)"
   ]
  },
  {
   "cell_type": "markdown",
   "metadata": {},
   "source": [
    "---"
   ]
  },
  {
   "cell_type": "markdown",
   "metadata": {},
   "source": [
    "### Greedy"
   ]
  },
  {
   "cell_type": "code",
   "execution_count": 361,
   "metadata": {
    "notebookRunGroups": {
     "groupValue": "2"
    }
   },
   "outputs": [
    {
     "ename": "KeyboardInterrupt",
     "evalue": "",
     "output_type": "error",
     "traceback": [
      "\u001b[1;31m---------------------------------------------------------------------------\u001b[0m",
      "\u001b[1;31mKeyboardInterrupt\u001b[0m                         Traceback (most recent call last)",
      "Cell \u001b[1;32mIn[361], line 31\u001b[0m\n\u001b[0;32m     27\u001b[0m                 paired[chosen_p] \u001b[39m=\u001b[39m \u001b[39mTrue\u001b[39;00m\n\u001b[0;32m     29\u001b[0m     \u001b[39mreturn\u001b[39;00m \u001b[39mlen\u001b[39m(pairs), pairs\n\u001b[1;32m---> 31\u001b[0m max_passengers1, solution1 \u001b[39m=\u001b[39m greedy_max_passenger(arr, k)\n",
      "Cell \u001b[1;32mIn[361], line 12\u001b[0m, in \u001b[0;36mgreedy_max_passenger\u001b[1;34m(arr, k)\u001b[0m\n\u001b[0;32m     10\u001b[0m         \u001b[39mfor\u001b[39;00m j \u001b[39min\u001b[39;00m \u001b[39mrange\u001b[39m(\u001b[39mmax\u001b[39m(\u001b[39m0\u001b[39m, i\u001b[39m-\u001b[39mk), \u001b[39mmin\u001b[39m(n, i\u001b[39m+\u001b[39mk\u001b[39m+\u001b[39m\u001b[39m1\u001b[39m)): \u001b[39m# min max used to avoid out of bounds\u001b[39;00m\n\u001b[0;32m     11\u001b[0m             \u001b[39mif\u001b[39;00m arr[j] \u001b[39m==\u001b[39m \u001b[39m'\u001b[39m\u001b[39mG\u001b[39m\u001b[39m'\u001b[39m:\n\u001b[1;32m---> 12\u001b[0m                 p_count[i] \u001b[39m+\u001b[39m\u001b[39m=\u001b[39m \u001b[39m1\u001b[39m\n\u001b[0;32m     14\u001b[0m \u001b[39m#looking for Grab cars ('G') to pair them up.\u001b[39;00m\n\u001b[0;32m     15\u001b[0m \u001b[39mfor\u001b[39;00m i \u001b[39min\u001b[39;00m \u001b[39mrange\u001b[39m(n):\n",
      "\u001b[1;31mKeyboardInterrupt\u001b[0m: "
     ]
    }
   ],
   "source": [
    "def greedy_max_passenger(arr, k):\n",
    "    n = len(arr)\n",
    "    paired = [False] * n  # To mark passengers that have been paired\n",
    "    pairs = []\n",
    "\n",
    "    # Count number of G's within k distance for each P\n",
    "    p_count = [0] * n\n",
    "    for i in range(n):\n",
    "        if arr[i] == 'P':\n",
    "            for j in range(max(0, i-k), min(n, i+k+1)): # min max used to avoid out of bounds\n",
    "                if arr[j] == 'G':\n",
    "                    p_count[i] += 1\n",
    "\n",
    "    #looking for Grab cars ('G') to pair them up.\n",
    "    for i in range(n):\n",
    "        if arr[i] == 'G':\n",
    "            # Prioritize P with fewest G's around; if tie, pick nearest P\n",
    "            min_count = float('inf') # used to track the minimum count of available Grab cars for any passenger\n",
    "            chosen_p = None # will store the index of the chosen passenger\n",
    "            for j in range(max(0, i-k), min(n, i+k+1)): # เอาไว้หาว่า G นี้มี P ที่น้อยที่สุดอยู่ที่ไหน\n",
    "                if arr[j] == 'P' and not paired[j] and p_count[j] < min_count:\n",
    "                    min_count = p_count[j]\n",
    "                    chosen_p = j\n",
    "\n",
    "            if chosen_p is not None:\n",
    "                pairs.append((i, chosen_p))\n",
    "                paired[chosen_p] = True\n",
    "\n",
    "    return len(pairs), pairs\n",
    "\n",
    "max_passengers1, solution1 = greedy_max_passenger(arr, k)\n"
   ]
  },
  {
   "cell_type": "code",
   "execution_count": null,
   "metadata": {
    "notebookRunGroups": {
     "groupValue": "2"
    }
   },
   "outputs": [],
   "source": [
    "print(f\"Version1\")\n",
    "print(f\"arr = {arr}\\nk   = {k}\")\n",
    "print(f\"Maximum passengers1: {max_passengers1}\")\n",
    "# print(f\"Solution1: {solution1}\")\n",
    "# print(f\"Total distance1: {calculate_distance(solution1)}\")"
   ]
  },
  {
   "cell_type": "markdown",
   "metadata": {},
   "source": [
    "## Greedy version 2\n",
    "จาก แต่ละ P\n",
    "ให้เลือกGตัวที่ไกลที่สุดทางซ้ายก่อน \n",
    "ถ้าไม่มีGทางซ้ายเลย \n",
    "ให้เลือกGตัวที่ใกล้ที่สุดทางขวา"
   ]
  },
  {
   "cell_type": "code",
   "execution_count": null,
   "metadata": {
    "notebookRunGroups": {
     "groupValue": "2"
    }
   },
   "outputs": [],
   "source": [
    "def greedy_max_passengerV2(arr, k):\n",
    "    n = len(arr)\n",
    "    paired = [False] * n  # To mark grabs that have been paired\n",
    "    pairs = []\n",
    "\n",
    "    for i in range(n):\n",
    "        if arr[i] == 'P':\n",
    "            chosen_g = None \n",
    "            for j in range(max(0, i-k), min(n, i+k+1)): \n",
    "                if arr[j] == 'G' and not paired[j]:\n",
    "                    chosen_g = j\n",
    "                    break\n",
    "            if chosen_g is not None:\n",
    "                pairs.append((chosen_g,i))\n",
    "                paired[chosen_g] = True\n",
    "    return len(pairs), pairs\n",
    "\n",
    "max_passengers2, solution2 = greedy_max_passengerV2(arr, k)\n"
   ]
  },
  {
   "cell_type": "code",
   "execution_count": null,
   "metadata": {
    "notebookRunGroups": {
     "groupValue": "2"
    }
   },
   "outputs": [],
   "source": [
    "print(f\"Version2\")\n",
    "print(f\"arr = {arr}\\nk   = {k}\")\n",
    "print(f\"Maximum passengers1: {max_passengers2}\")\n",
    "# print(f\"Solution1: {solution2}\")\n",
    "# print(f\"Total distance1: {calculate_distance(solution2)}\")"
   ]
  },
  {
   "cell_type": "markdown",
   "metadata": {},
   "source": [
    "---"
   ]
  },
  {
   "cell_type": "markdown",
   "metadata": {},
   "source": [
    "## Greedy version 3\n",
    "จาก แต่ละ P\n",
    "ให้เลือกGตัวที่ไกลที่สุดทางซ้ายก่อน \n",
    "ถ้าไม่มีGทางซ้ายเลย \n",
    "ให้เลือกGตัวที่ไกลที่สุดทางขวา"
   ]
  },
  {
   "cell_type": "code",
   "execution_count": null,
   "metadata": {},
   "outputs": [],
   "source": [
    "def greedy_max_passengerV3(arr, k):\n",
    "    n = len(arr)\n",
    "    paired = [False] * n  # To mark grabs that have been paired\n",
    "    pairs = []\n",
    "\n",
    "    for i in range(n):\n",
    "        if arr[i] == 'P':\n",
    "            chosen_g = None \n",
    "            \n",
    "            # First, check leftmost G within k distance\n",
    "            for j in range(max(0, i-k), i): \n",
    "                if arr[j] == 'G' and not paired[j]:\n",
    "                    chosen_g = j\n",
    "                    break\n",
    "            \n",
    "            # If not found on left, check rightmost G within k distance\n",
    "            if chosen_g is None:\n",
    "                for j in range(min(n, i+k+1)-1, i, -1): \n",
    "                    if arr[j] == 'G' and not paired[j]:\n",
    "                        chosen_g = j\n",
    "                        break\n",
    "            \n",
    "            if chosen_g is not None:\n",
    "                pairs.append((chosen_g, i))\n",
    "                paired[chosen_g] = True\n",
    "                \n",
    "    return len(pairs), pairs\n",
    "\n",
    "max_passengers3, solution3 = greedy_max_passengerV3(arr, k)"
   ]
  },
  {
   "cell_type": "code",
   "execution_count": null,
   "metadata": {},
   "outputs": [],
   "source": [
    "print(f\"Version3\")\n",
    "print(f\"arr = {arr}\\nk   = {k}\")\n",
    "print(f\"Maximum passengers1: {max_passengers3}\")\n",
    "# print(f\"Solution1: {solution2}\")\n",
    "# print(f\"Total distance1: {calculate_distance(solution2)}\")"
   ]
  }
 ],
 "metadata": {
  "kernelspec": {
   "display_name": "base",
   "language": "python",
   "name": "python3"
  },
  "language_info": {
   "codemirror_mode": {
    "name": "ipython",
    "version": 3
   },
   "file_extension": ".py",
   "mimetype": "text/x-python",
   "name": "python",
   "nbconvert_exporter": "python",
   "pygments_lexer": "ipython3",
   "version": "3.9.16"
  },
  "orig_nbformat": 4
 },
 "nbformat": 4,
 "nbformat_minor": 2
}
